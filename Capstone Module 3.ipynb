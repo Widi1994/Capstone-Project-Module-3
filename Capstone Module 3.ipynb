{
 "cells": [
  {
   "cell_type": "markdown",
   "id": "f3747057-371c-40de-a272-170f9fe785c5",
   "metadata": {},
   "source": [
    "# E-Commerce Customer Churn"
   ]
  },
  {
   "cell_type": "markdown",
   "id": "c1b96bea-947c-458c-84e4-0c834d8123ce",
   "metadata": {},
   "source": [
    "# Business Problem\n",
    "\n",
    "## Background\n",
    "\n",
    "Sebuah perusahaan E-Commerce ingin melakukan evaluasi terhadap pelanggan yang loyal dan pelanggan yang tidak lagi menggunakan layanan E-Commerce tersebut atau bisa kita sebut sebagai customer churn. Tentunya perusahaan tidak ingin kehilangan pelanggan loyal nya, karena hal tersebut dapat menyebabkan kerugian, sehingga perusahaan harus memberikan perlakuan khusus terhadap pelanggan yang loyal."
   ]
  },
  {
   "cell_type": "markdown",
   "id": "a20b94cb-e38a-4aad-8f4e-575c0726df3c",
   "metadata": {},
   "source": [
    "## Problem Statement\n",
    "\n",
    "Pelanggan yang sudah loyal bukan tidak mungkin untuk meninggalkan layanan apabila memang ada pesaing baru yang lebih baik. Karena itu perusahaan harus bisa memberikan pelayanan yang bisa membuat pelanggan yang sudah loyal tidak berpaling ke layanan lainnya, agar perusahaan tidak mengalami kerugian."
   ]
  },
  {
   "cell_type": "markdown",
   "id": "fa8236fe-7118-43ec-a18f-35cdf95f9e46",
   "metadata": {},
   "source": [
    "## Goals\n",
    "\n",
    "Berdasarkan permasalahan diatas, perusahaan ingin melakukan prediksi terhadap customer yang akan churn. Dengan memprediksi hal tersebut, perusahaan akan bisa memberi perlakuan yang tepat terhadap pelanggan yang sudah loyal maupun yang berpotensi untuk churn. Dengan begitu diharapkan perusahaan bisa mendapatkan profit yang lebih baik."
   ]
  },
  {
   "cell_type": "markdown",
   "id": "ba29a89b-c3df-451c-bb33-921dbc424a61",
   "metadata": {},
   "source": [
    "## Analytic Approach\n",
    "\n",
    "Analitik yang dilakukan berupa evaluasi dan implementasi model klasifikasi untuk memprediksi pelanggan yang akan churn atau tidak berdasarkan data yang sudah ada."
   ]
  },
  {
   "cell_type": "markdown",
   "id": "234b3153-c30e-4f2c-a882-74798bef448b",
   "metadata": {},
   "source": [
    "## Metric Evaluation\n",
    "\n",
    "0 : Pelanggan tidak churn\n",
    "\n",
    "1 : Pelanggan Churn\n",
    "\n",
    "Type 1 error : False Positive\n",
    "Konsekuensi : Mengeluarkan uang yang sia-sia untuk pelanggan yang tidak akan churn\n",
    "\n",
    "Type 2 error : False Negative\n",
    "Konsekuensi : Kehilangan pelanggan yang sudah loyal"
   ]
  },
  {
   "cell_type": "markdown",
   "id": "793b7a06-d18c-44a4-89e8-1330c248be27",
   "metadata": {},
   "source": [
    "# Data Understanding"
   ]
  },
  {
   "cell_type": "code",
   "execution_count": 1,
   "id": "5e124813-ef96-497b-a3fa-e62875d5f5dc",
   "metadata": {},
   "outputs": [],
   "source": [
    "import numpy as np\n",
    "import pandas as pd\n",
    "import matplotlib.pyplot as plt\n",
    "import seaborn as sns\n",
    "import plotly.express as px\n",
    "import plotly.graph_objects as go\n",
    "from plotly.subplots import make_subplots\n",
    "from imblearn.over_sampling import SMOTE\n",
    "import seaborn as sns\n",
    "import re\n",
    "import warnings\n",
    "warnings.filterwarnings(\"ignore\")"
   ]
  },
  {
   "cell_type": "markdown",
   "id": "3d89cd04-9edd-490d-ac20-0e234d4f5a82",
   "metadata": {},
   "source": [
    "Data Source : https://drive.google.com/file/d/1Ipw3ZtQGEPTqkclBTmi_bA2Raor93UMr/view"
   ]
  },
  {
   "cell_type": "code",
   "execution_count": 2,
   "id": "1899b427-d981-445e-bb24-2c0938ffc2dc",
   "metadata": {},
   "outputs": [
    {
     "data": {
      "text/html": [
       "<div>\n",
       "<style scoped>\n",
       "    .dataframe tbody tr th:only-of-type {\n",
       "        vertical-align: middle;\n",
       "    }\n",
       "\n",
       "    .dataframe tbody tr th {\n",
       "        vertical-align: top;\n",
       "    }\n",
       "\n",
       "    .dataframe thead th {\n",
       "        text-align: right;\n",
       "    }\n",
       "</style>\n",
       "<table border=\"1\" class=\"dataframe\">\n",
       "  <thead>\n",
       "    <tr style=\"text-align: right;\">\n",
       "      <th></th>\n",
       "      <th>Tenure</th>\n",
       "      <th>WarehouseToHome</th>\n",
       "      <th>NumberOfDeviceRegistered</th>\n",
       "      <th>PreferedOrderCat</th>\n",
       "      <th>SatisfactionScore</th>\n",
       "      <th>MaritalStatus</th>\n",
       "      <th>NumberOfAddress</th>\n",
       "      <th>Complain</th>\n",
       "      <th>DaySinceLastOrder</th>\n",
       "      <th>CashbackAmount</th>\n",
       "      <th>Churn</th>\n",
       "    </tr>\n",
       "  </thead>\n",
       "  <tbody>\n",
       "    <tr>\n",
       "      <th>0</th>\n",
       "      <td>15.0</td>\n",
       "      <td>29.0</td>\n",
       "      <td>4</td>\n",
       "      <td>Laptop &amp; Accessory</td>\n",
       "      <td>3</td>\n",
       "      <td>Single</td>\n",
       "      <td>2</td>\n",
       "      <td>0</td>\n",
       "      <td>7.0</td>\n",
       "      <td>143.32</td>\n",
       "      <td>0</td>\n",
       "    </tr>\n",
       "    <tr>\n",
       "      <th>1</th>\n",
       "      <td>7.0</td>\n",
       "      <td>25.0</td>\n",
       "      <td>4</td>\n",
       "      <td>Mobile</td>\n",
       "      <td>1</td>\n",
       "      <td>Married</td>\n",
       "      <td>2</td>\n",
       "      <td>0</td>\n",
       "      <td>7.0</td>\n",
       "      <td>129.29</td>\n",
       "      <td>0</td>\n",
       "    </tr>\n",
       "    <tr>\n",
       "      <th>2</th>\n",
       "      <td>27.0</td>\n",
       "      <td>13.0</td>\n",
       "      <td>3</td>\n",
       "      <td>Laptop &amp; Accessory</td>\n",
       "      <td>1</td>\n",
       "      <td>Married</td>\n",
       "      <td>5</td>\n",
       "      <td>0</td>\n",
       "      <td>7.0</td>\n",
       "      <td>168.54</td>\n",
       "      <td>0</td>\n",
       "    </tr>\n",
       "    <tr>\n",
       "      <th>3</th>\n",
       "      <td>20.0</td>\n",
       "      <td>25.0</td>\n",
       "      <td>4</td>\n",
       "      <td>Fashion</td>\n",
       "      <td>3</td>\n",
       "      <td>Divorced</td>\n",
       "      <td>7</td>\n",
       "      <td>0</td>\n",
       "      <td>NaN</td>\n",
       "      <td>230.27</td>\n",
       "      <td>0</td>\n",
       "    </tr>\n",
       "    <tr>\n",
       "      <th>4</th>\n",
       "      <td>30.0</td>\n",
       "      <td>15.0</td>\n",
       "      <td>4</td>\n",
       "      <td>Others</td>\n",
       "      <td>4</td>\n",
       "      <td>Single</td>\n",
       "      <td>8</td>\n",
       "      <td>0</td>\n",
       "      <td>8.0</td>\n",
       "      <td>322.17</td>\n",
       "      <td>0</td>\n",
       "    </tr>\n",
       "    <tr>\n",
       "      <th>...</th>\n",
       "      <td>...</td>\n",
       "      <td>...</td>\n",
       "      <td>...</td>\n",
       "      <td>...</td>\n",
       "      <td>...</td>\n",
       "      <td>...</td>\n",
       "      <td>...</td>\n",
       "      <td>...</td>\n",
       "      <td>...</td>\n",
       "      <td>...</td>\n",
       "      <td>...</td>\n",
       "    </tr>\n",
       "    <tr>\n",
       "      <th>3936</th>\n",
       "      <td>28.0</td>\n",
       "      <td>9.0</td>\n",
       "      <td>5</td>\n",
       "      <td>Fashion</td>\n",
       "      <td>3</td>\n",
       "      <td>Married</td>\n",
       "      <td>8</td>\n",
       "      <td>0</td>\n",
       "      <td>1.0</td>\n",
       "      <td>231.86</td>\n",
       "      <td>0</td>\n",
       "    </tr>\n",
       "    <tr>\n",
       "      <th>3937</th>\n",
       "      <td>8.0</td>\n",
       "      <td>7.0</td>\n",
       "      <td>2</td>\n",
       "      <td>Mobile Phone</td>\n",
       "      <td>2</td>\n",
       "      <td>Single</td>\n",
       "      <td>4</td>\n",
       "      <td>0</td>\n",
       "      <td>4.0</td>\n",
       "      <td>157.80</td>\n",
       "      <td>0</td>\n",
       "    </tr>\n",
       "    <tr>\n",
       "      <th>3938</th>\n",
       "      <td>30.0</td>\n",
       "      <td>6.0</td>\n",
       "      <td>5</td>\n",
       "      <td>Laptop &amp; Accessory</td>\n",
       "      <td>3</td>\n",
       "      <td>Married</td>\n",
       "      <td>3</td>\n",
       "      <td>1</td>\n",
       "      <td>2.0</td>\n",
       "      <td>156.60</td>\n",
       "      <td>0</td>\n",
       "    </tr>\n",
       "    <tr>\n",
       "      <th>3939</th>\n",
       "      <td>6.0</td>\n",
       "      <td>NaN</td>\n",
       "      <td>4</td>\n",
       "      <td>Mobile</td>\n",
       "      <td>3</td>\n",
       "      <td>Married</td>\n",
       "      <td>10</td>\n",
       "      <td>1</td>\n",
       "      <td>0.0</td>\n",
       "      <td>124.37</td>\n",
       "      <td>1</td>\n",
       "    </tr>\n",
       "    <tr>\n",
       "      <th>3940</th>\n",
       "      <td>2.0</td>\n",
       "      <td>7.0</td>\n",
       "      <td>3</td>\n",
       "      <td>Laptop &amp; Accessory</td>\n",
       "      <td>5</td>\n",
       "      <td>Married</td>\n",
       "      <td>1</td>\n",
       "      <td>0</td>\n",
       "      <td>2.0</td>\n",
       "      <td>153.73</td>\n",
       "      <td>0</td>\n",
       "    </tr>\n",
       "  </tbody>\n",
       "</table>\n",
       "<p>3941 rows × 11 columns</p>\n",
       "</div>"
      ],
      "text/plain": [
       "      Tenure  WarehouseToHome  NumberOfDeviceRegistered    PreferedOrderCat  \\\n",
       "0       15.0             29.0                         4  Laptop & Accessory   \n",
       "1        7.0             25.0                         4              Mobile   \n",
       "2       27.0             13.0                         3  Laptop & Accessory   \n",
       "3       20.0             25.0                         4             Fashion   \n",
       "4       30.0             15.0                         4              Others   \n",
       "...      ...              ...                       ...                 ...   \n",
       "3936    28.0              9.0                         5             Fashion   \n",
       "3937     8.0              7.0                         2        Mobile Phone   \n",
       "3938    30.0              6.0                         5  Laptop & Accessory   \n",
       "3939     6.0              NaN                         4              Mobile   \n",
       "3940     2.0              7.0                         3  Laptop & Accessory   \n",
       "\n",
       "      SatisfactionScore MaritalStatus  NumberOfAddress  Complain  \\\n",
       "0                     3        Single                2         0   \n",
       "1                     1       Married                2         0   \n",
       "2                     1       Married                5         0   \n",
       "3                     3      Divorced                7         0   \n",
       "4                     4        Single                8         0   \n",
       "...                 ...           ...              ...       ...   \n",
       "3936                  3       Married                8         0   \n",
       "3937                  2        Single                4         0   \n",
       "3938                  3       Married                3         1   \n",
       "3939                  3       Married               10         1   \n",
       "3940                  5       Married                1         0   \n",
       "\n",
       "      DaySinceLastOrder  CashbackAmount  Churn  \n",
       "0                   7.0          143.32      0  \n",
       "1                   7.0          129.29      0  \n",
       "2                   7.0          168.54      0  \n",
       "3                   NaN          230.27      0  \n",
       "4                   8.0          322.17      0  \n",
       "...                 ...             ...    ...  \n",
       "3936                1.0          231.86      0  \n",
       "3937                4.0          157.80      0  \n",
       "3938                2.0          156.60      0  \n",
       "3939                0.0          124.37      1  \n",
       "3940                2.0          153.73      0  \n",
       "\n",
       "[3941 rows x 11 columns]"
      ]
     },
     "execution_count": 2,
     "metadata": {},
     "output_type": "execute_result"
    }
   ],
   "source": [
    "df = pd.read_csv('EcomCustChurn.csv')\n",
    "df"
   ]
  },
  {
   "cell_type": "markdown",
   "id": "5a4da117-e090-460b-920d-5275deda0057",
   "metadata": {},
   "source": [
    "* Didalam dataset ini terdapat 3941 baris data, dan 11 kolom.\n",
    "* Dari 11 kolom tersebut terdapat 9 kolom numerik, dan 2 kolom kategorik.\n",
    "\n",
    "**Kolom Numerik**:\n",
    "- Tenure\n",
    "\n",
    "Masa penggunaan pelanggan dalam bulan.\n",
    "- WarehouseToHome\n",
    "\n",
    "Jarak antara gudang dengan rumah pelanggan.\n",
    "- NumberOfDeviceRegistered\n",
    "\n",
    "Jumlah perangkat pelanggan yang terhubung ke pelayanan.\n",
    "- SatisfactionScore\n",
    "\n",
    "Tingkat kepuasan pelanggan terhadap pelayanan.\n",
    "- NumberOfAddress\n",
    "\n",
    "Jumlah alamat pelanggan yang terdaftar di pelayanan.\n",
    "- Complain\n",
    "\n",
    "Pengajuan komplain pelanggan ke pelayanan.\n",
    "- DaySinceLastOrder\n",
    "\n",
    "Hari sejak pemesanan terakhir oleh pelanggan.\n",
    "- CashbackAmount\n",
    "\n",
    "Rata-rata cashback bulan lalu.\n",
    "- Churn\n",
    "\n",
    "0 : Tidak churn, 1 : churn.\n",
    "\n",
    "**Kolom Kategorik**:\n",
    "- PreferedOrderCat\n",
    "\n",
    "Kategori yang disukai oleh pelanggan.\n",
    "- MaritalStatus\n",
    "\n",
    "Status pernikahan pelanggan."
   ]
  },
  {
   "cell_type": "markdown",
   "id": "0b620aa7-07aa-41f0-bfeb-327bfc146ba7",
   "metadata": {},
   "source": [
    "# Data Cleaning"
   ]
  },
  {
   "cell_type": "code",
   "execution_count": 3,
   "id": "200e96f9-6d65-41c1-9fe0-06d2439dfad1",
   "metadata": {},
   "outputs": [],
   "source": [
    "# Cek kolom data\n",
    "def Check (x):\n",
    "    Type=[]\n",
    "    Count=[]\n",
    "    Sample=[]\n",
    "    MissVal=[]\n",
    "    for i in x.columns:\n",
    "        Sample.append(x[i].unique()[:5])\n",
    "        Count.append(x[i].nunique())\n",
    "        Type.append(x[i].dtype)\n",
    "        MissVal.append(x[i].isna().sum())\n",
    "    check=pd.DataFrame({\n",
    "        'Columns':df.columns,\n",
    "        'Dtype':Type,\n",
    "        'Nunique':Count,\n",
    "        'Missing Value':MissVal,\n",
    "        'Unique':Sample\n",
    "    })\n",
    "    return check"
   ]
  },
  {
   "cell_type": "code",
   "execution_count": 4,
   "id": "71113320-662b-490e-9a26-dd77f05c3bf9",
   "metadata": {},
   "outputs": [
    {
     "data": {
      "text/html": [
       "<div>\n",
       "<style scoped>\n",
       "    .dataframe tbody tr th:only-of-type {\n",
       "        vertical-align: middle;\n",
       "    }\n",
       "\n",
       "    .dataframe tbody tr th {\n",
       "        vertical-align: top;\n",
       "    }\n",
       "\n",
       "    .dataframe thead th {\n",
       "        text-align: right;\n",
       "    }\n",
       "</style>\n",
       "<table border=\"1\" class=\"dataframe\">\n",
       "  <thead>\n",
       "    <tr style=\"text-align: right;\">\n",
       "      <th></th>\n",
       "      <th>Columns</th>\n",
       "      <th>Dtype</th>\n",
       "      <th>Nunique</th>\n",
       "      <th>Missing Value</th>\n",
       "      <th>Unique</th>\n",
       "    </tr>\n",
       "  </thead>\n",
       "  <tbody>\n",
       "    <tr>\n",
       "      <th>0</th>\n",
       "      <td>Tenure</td>\n",
       "      <td>float64</td>\n",
       "      <td>36</td>\n",
       "      <td>194</td>\n",
       "      <td>[15.0, 7.0, 27.0, 20.0, 30.0]</td>\n",
       "    </tr>\n",
       "    <tr>\n",
       "      <th>1</th>\n",
       "      <td>WarehouseToHome</td>\n",
       "      <td>float64</td>\n",
       "      <td>33</td>\n",
       "      <td>169</td>\n",
       "      <td>[29.0, 25.0, 13.0, 15.0, 16.0]</td>\n",
       "    </tr>\n",
       "    <tr>\n",
       "      <th>2</th>\n",
       "      <td>NumberOfDeviceRegistered</td>\n",
       "      <td>int64</td>\n",
       "      <td>6</td>\n",
       "      <td>0</td>\n",
       "      <td>[4, 3, 6, 2, 5]</td>\n",
       "    </tr>\n",
       "    <tr>\n",
       "      <th>3</th>\n",
       "      <td>PreferedOrderCat</td>\n",
       "      <td>object</td>\n",
       "      <td>6</td>\n",
       "      <td>0</td>\n",
       "      <td>[Laptop &amp; Accessory, Mobile, Fashion, Others, ...</td>\n",
       "    </tr>\n",
       "    <tr>\n",
       "      <th>4</th>\n",
       "      <td>SatisfactionScore</td>\n",
       "      <td>int64</td>\n",
       "      <td>5</td>\n",
       "      <td>0</td>\n",
       "      <td>[3, 1, 4, 2, 5]</td>\n",
       "    </tr>\n",
       "    <tr>\n",
       "      <th>5</th>\n",
       "      <td>MaritalStatus</td>\n",
       "      <td>object</td>\n",
       "      <td>3</td>\n",
       "      <td>0</td>\n",
       "      <td>[Single, Married, Divorced]</td>\n",
       "    </tr>\n",
       "    <tr>\n",
       "      <th>6</th>\n",
       "      <td>NumberOfAddress</td>\n",
       "      <td>int64</td>\n",
       "      <td>14</td>\n",
       "      <td>0</td>\n",
       "      <td>[2, 5, 7, 8, 3]</td>\n",
       "    </tr>\n",
       "    <tr>\n",
       "      <th>7</th>\n",
       "      <td>Complain</td>\n",
       "      <td>int64</td>\n",
       "      <td>2</td>\n",
       "      <td>0</td>\n",
       "      <td>[0, 1]</td>\n",
       "    </tr>\n",
       "    <tr>\n",
       "      <th>8</th>\n",
       "      <td>DaySinceLastOrder</td>\n",
       "      <td>float64</td>\n",
       "      <td>22</td>\n",
       "      <td>213</td>\n",
       "      <td>[7.0, nan, 8.0, 11.0, 2.0]</td>\n",
       "    </tr>\n",
       "    <tr>\n",
       "      <th>9</th>\n",
       "      <td>CashbackAmount</td>\n",
       "      <td>float64</td>\n",
       "      <td>2335</td>\n",
       "      <td>0</td>\n",
       "      <td>[143.32, 129.29, 168.54, 230.27, 322.17]</td>\n",
       "    </tr>\n",
       "    <tr>\n",
       "      <th>10</th>\n",
       "      <td>Churn</td>\n",
       "      <td>int64</td>\n",
       "      <td>2</td>\n",
       "      <td>0</td>\n",
       "      <td>[0, 1]</td>\n",
       "    </tr>\n",
       "  </tbody>\n",
       "</table>\n",
       "</div>"
      ],
      "text/plain": [
       "                     Columns    Dtype  Nunique  Missing Value  \\\n",
       "0                     Tenure  float64       36            194   \n",
       "1            WarehouseToHome  float64       33            169   \n",
       "2   NumberOfDeviceRegistered    int64        6              0   \n",
       "3           PreferedOrderCat   object        6              0   \n",
       "4          SatisfactionScore    int64        5              0   \n",
       "5              MaritalStatus   object        3              0   \n",
       "6            NumberOfAddress    int64       14              0   \n",
       "7                   Complain    int64        2              0   \n",
       "8          DaySinceLastOrder  float64       22            213   \n",
       "9             CashbackAmount  float64     2335              0   \n",
       "10                     Churn    int64        2              0   \n",
       "\n",
       "                                               Unique  \n",
       "0                       [15.0, 7.0, 27.0, 20.0, 30.0]  \n",
       "1                      [29.0, 25.0, 13.0, 15.0, 16.0]  \n",
       "2                                     [4, 3, 6, 2, 5]  \n",
       "3   [Laptop & Accessory, Mobile, Fashion, Others, ...  \n",
       "4                                     [3, 1, 4, 2, 5]  \n",
       "5                         [Single, Married, Divorced]  \n",
       "6                                     [2, 5, 7, 8, 3]  \n",
       "7                                              [0, 1]  \n",
       "8                          [7.0, nan, 8.0, 11.0, 2.0]  \n",
       "9            [143.32, 129.29, 168.54, 230.27, 322.17]  \n",
       "10                                             [0, 1]  "
      ]
     },
     "execution_count": 4,
     "metadata": {},
     "output_type": "execute_result"
    }
   ],
   "source": [
    "Check(df)"
   ]
  },
  {
   "cell_type": "code",
   "execution_count": 5,
   "id": "a48a09dc-0bff-4e4b-af33-83ac07c67931",
   "metadata": {},
   "outputs": [
    {
     "data": {
      "text/plain": [
       "Laptop & Accessory    1458\n",
       "Mobile Phone           887\n",
       "Fashion                585\n",
       "Mobile                 559\n",
       "Grocery                273\n",
       "Others                 179\n",
       "Name: PreferedOrderCat, dtype: int64"
      ]
     },
     "execution_count": 5,
     "metadata": {},
     "output_type": "execute_result"
    }
   ],
   "source": [
    "# Cek jumlah per kategori yang ada di kolom PreferedOrderCat\n",
    "df['PreferedOrderCat'].value_counts()"
   ]
  },
  {
   "cell_type": "markdown",
   "id": "43801be1-7fc6-4fcf-897e-9438be5922eb",
   "metadata": {},
   "source": [
    "Karena ada 2 jenis kategori yang sama yaitu Mobile & Mobile Phone, maka kedua kategori tersebut akan digabung menjadi satu."
   ]
  },
  {
   "cell_type": "code",
   "execution_count": 6,
   "id": "b6f447e6-cf68-4b0a-89d9-c9045dbcbb3d",
   "metadata": {},
   "outputs": [
    {
     "data": {
      "text/plain": [
       "Laptop & Accessory    1458\n",
       "Mobile Phone          1446\n",
       "Fashion                585\n",
       "Grocery                273\n",
       "Others                 179\n",
       "Name: PreferedOrderCat, dtype: int64"
      ]
     },
     "execution_count": 6,
     "metadata": {},
     "output_type": "execute_result"
    }
   ],
   "source": [
    "# Menyatukan kategori Mobile & Mobile Phone\n",
    "df['PreferedOrderCat'] = df['PreferedOrderCat'].replace('Mobile', 'Mobile Phone')\n",
    "df['PreferedOrderCat'].value_counts()"
   ]
  },
  {
   "cell_type": "code",
   "execution_count": 7,
   "id": "ee5174b8-b245-4276-aad1-a77c968b2b63",
   "metadata": {
    "tags": []
   },
   "outputs": [
    {
     "data": {
      "text/plain": [
       "672"
      ]
     },
     "execution_count": 7,
     "metadata": {},
     "output_type": "execute_result"
    }
   ],
   "source": [
    "# Cek data duplikat\n",
    "df.duplicated().sum()"
   ]
  },
  {
   "cell_type": "markdown",
   "id": "760e9210-bbdc-4b26-91bd-5c79d2247f41",
   "metadata": {},
   "source": [
    "Karena tidak adanya **Customer ID** maka data dianggap benar duplikat. Langkah yang tepat adalah menghapus data duplikat karena bisa mempengaruhi model."
   ]
  },
  {
   "cell_type": "code",
   "execution_count": 8,
   "id": "0fd26141-17ef-4c6d-9df5-626486f88548",
   "metadata": {
    "tags": []
   },
   "outputs": [],
   "source": [
    "df.drop_duplicates(inplace=True)"
   ]
  },
  {
   "cell_type": "code",
   "execution_count": 9,
   "id": "f46f880a-22e5-4a74-a031-554c94871e74",
   "metadata": {},
   "outputs": [
    {
     "data": {
      "image/png": "[encoded data removed]",
      "text/plain": [
       "<Figure size 1080x1440 with 4 Axes>"
      ]
     },
     "metadata": {
      "needs_background": "light"
     },
     "output_type": "display_data"
    }
   ],
   "source": [
    "# Cek outlier menggunakan boxplot\n",
    "features=['Tenure','WarehouseToHome', 'DaySinceLastOrder','CashbackAmount']\n",
    "plt.figure(figsize=(15,20))\n",
    "for i in range(0,len(features)):\n",
    "  plt.subplot(4,4,i+1)\n",
    "  sns.boxplot(y=df[features[i]],color='cornflowerblue',orient='v')\n",
    "  plt.tight_layout()"
   ]
  },
  {
   "cell_type": "code",
   "execution_count": 10,
   "id": "74f84b05-4aa8-416b-91f3-76c97281d4eb",
   "metadata": {},
   "outputs": [
    {
     "name": "stdout",
     "output_type": "stream",
     "text": [
      "Lower Bound Tenure adalah -19.0, dan Upper Bound Tenure adalah 37.0 , terdapat 4 data yang menyimpang dari data biasanya, yaitu sebanyak 0.13%\n",
      "Lower Bound WarehouseToHome adalah -7.5, dan Upper Bound WarehouseToHome adalah 36.5 , terdapat 1 data yang menyimpang dari data biasanya, yaitu sebanyak 0.03%\n",
      "Lower Bound DaySinceLastOrder adalah -5.5, dan Upper Bound DaySinceLastOrder adalah 14.5 , terdapat 40 data yang menyimpang dari data biasanya, yaitu sebanyak 1.3%\n",
      "Lower Bound CashbackAmount adalah 69.04, dan Upper Bound CashbackAmount adalah 274.0 , terdapat 253 data yang menyimpang dari data biasanya, yaitu sebanyak 7.74%\n"
     ]
    }
   ],
   "source": [
    "for i in range(0, len(features)):\n",
    "    Q1 = df[features[i]].quantile(0.25)\n",
    "    Q3 = df[features[i]].quantile(0.75)\n",
    "    IQR = Q3 - Q1\n",
    "    lower_bound =  Q1 - (1.5 * IQR)\n",
    "    upper_bound =  Q3 + (1.5 * IQR)\n",
    "    condition = (df[features[i]]< lower_bound) | (df[features[i]]> upper_bound)\n",
    "    outlier = df.loc[condition, features[i]].count()\n",
    "    PersentaseOutlier = outlier/df[features[i]].count()*100\n",
    "    print(f'''Lower Bound {features[i]} adalah {round(lower_bound,2)}, dan Upper Bound {features[i]} adalah {round(upper_bound,2)} , terdapat {outlier} data yang menyimpang dari data biasanya, yaitu sebanyak {round(PersentaseOutlier,2)}%''')\n",
    "    '/n'"
   ]
  },
  {
   "cell_type": "markdown",
   "id": "80bd06af-d82d-412e-9270-080ff4fe4634",
   "metadata": {},
   "source": [
    "Dari hasil diatas, data outlier pada kolom Tenure & WarehouseToHome akan di drop saja karena memiliki persentase yang kecil. Sedangkan outlier pada kolom DaySinceLastOrder & CashbackAmount akan dibiarkan saja karena memang wajar jika ada nilai yang tinggi."
   ]
  },
  {
   "cell_type": "code",
   "execution_count": 11,
   "id": "06bf6cdc-1bdd-4656-b499-006c6e39e02f",
   "metadata": {},
   "outputs": [],
   "source": [
    "# Menghapus outlier pada kolom Tenure & WarehouseToHome\n",
    "df.drop(df[df['Tenure']>37].index,inplace=True)\n",
    "df.drop(df[df['WarehouseToHome']>36.5].index,inplace=True)"
   ]
  },
  {
   "cell_type": "markdown",
   "id": "a70daa97-8297-447e-815c-b058409fb179",
   "metadata": {},
   "source": [
    "# Data Analysis"
   ]
  },
  {
   "cell_type": "code",
   "execution_count": 12,
   "id": "08693a7b-4a3a-49ee-a308-6f0faa0689c3",
   "metadata": {},
   "outputs": [
    {
     "data": {
      "text/plain": [
       "0    2731\n",
       "1     533\n",
       "Name: Churn, dtype: int64"
      ]
     },
     "execution_count": 12,
     "metadata": {},
     "output_type": "execute_result"
    }
   ],
   "source": [
    "# Perbandingan churn & tidak churn\n",
    "df['Churn'].value_counts()"
   ]
  },
  {
   "cell_type": "code",
   "execution_count": 44,
   "id": "06ad2160-9508-42d3-8818-50a0d290a297",
   "metadata": {},
   "outputs": [
    {
     "data": {
      "image/png": "[encoded data removed]",
      "text/plain": [
       "<Figure size 576x396 with 1 Axes>"
      ]
     },
     "metadata": {},
     "output_type": "display_data"
    }
   ],
   "source": [
    "sns.color_palette('dark')\n",
    "plt.figure().suptitle('E-commerce Customer Churn', fontsize=20)\n",
    "plt.subplot(1,2,1)\n",
    "plt.pie(df['Churn'].value_counts(), labels=['tidak churn','churn'], colors= ['tab:blue','tab:red'],autopct='%.2f%%',explode=(0.01,0.01))\n",
    "plt.show()"
   ]
  },
  {
   "cell_type": "markdown",
   "id": "cb814d25-3ee3-477a-b3ae-f675cfd74d92",
   "metadata": {},
   "source": [
    "Dari hasil data diatas dapat dilihat bahwa proporsi churn & tidak churn dengan persentase churn sebesar 16.33% sedangkan persentase tidak churn sebesar 83.67%."
   ]
  },
  {
   "cell_type": "markdown",
   "id": "0c1392cb-93e3-4242-931c-74b523aea173",
   "metadata": {},
   "source": [
    "## Melihat pengaruh masing-masing variabel terhadap churn"
   ]
  },
  {
   "cell_type": "code",
   "execution_count": 14,
   "id": "e06123dd-a11c-470d-b47c-73f0d3275322",
   "metadata": {},
   "outputs": [
    {
     "data": {
      "image/png": "[encoded data removed]",
      "text/plain": [
       "<Figure size 1080x1080 with 4 Axes>"
      ]
     },
     "metadata": {
      "needs_background": "light"
     },
     "output_type": "display_data"
    }
   ],
   "source": [
    "kunti=['Tenure','WarehouseToHome','DaySinceLastOrder','CashbackAmount']\n",
    "a=1\n",
    "sns.color_palette('pastel')\n",
    "plt.figure(figsize=(15,15))\n",
    "for i in kunti:\n",
    "    plt.subplot(4,4,a)\n",
    "    sns.histplot(x=df[df['Churn']==0][i],kde=True,color='black')\n",
    "    sns.histplot(x=df[df['Churn']==1][i],kde=True,color='green')\n",
    "    plt.legend(labels=['Tidak Churn','Churn'])\n",
    "    plt.tight_layout()\n",
    "    a+=1\n",
    "plt.show()"
   ]
  },
  {
   "cell_type": "markdown",
   "id": "691dc730-12ae-4a63-9800-9ecfe859a237",
   "metadata": {},
   "source": [
    "* Tenure terhadap churn :\n",
    "Dari grafik diatas dapat dilihat bahwa, semakin lama pelanggan menggunakan layanan maka semakin besar juga seorang pelanggan untuk tidak churn.\n",
    "\n",
    "* WarehouseToHome terhadap churn :\n",
    "Data WarehouseToHome terdistribusi hampir merata, namun sedikit yang melebihi angka 20. Sehingga bisa disimpulkan bahwa semakin jauh jarak akan mempengaruhi pelanggan churn.\n",
    "\n",
    "* DaySinceLastOrder terhadap churn :\n",
    "Dari grafik diatas menunjukan bahwa, data churn dan yang tidak churn terdistribusi hampir sama.\n",
    "\n",
    "* CashbackAmount :\n",
    "Dari grafik diatas menunjukan bahwa, pelanggan yang churn berada pada kisaran 140-150."
   ]
  },
  {
   "cell_type": "code",
   "execution_count": 15,
   "id": "f326e198-9df9-462d-888b-f4dc0d41192d",
   "metadata": {},
   "outputs": [
    {
     "data": {
      "image/png": "[encoded data removed]",
      "text/plain": [
       "<Figure size 1080x1080 with 4 Axes>"
      ]
     },
     "metadata": {
      "needs_background": "light"
     },
     "output_type": "display_data"
    }
   ],
   "source": [
    "kolnum=['NumberOfDeviceRegistered','SatisfactionScore','NumberOfAddress','Complain']\n",
    "a=1\n",
    "plt.figure(figsize=(15,15))\n",
    "for i in kolnum:  \n",
    "    plt.subplot(4,4,a)\n",
    "    plt.style.use('seaborn')\n",
    "    sns.countplot(x=df[df['Churn']==1][i])\n",
    "    plt.title(f'Churn berdasarkan {i}', fontsize=10)\n",
    "    plt.ylabel('Count')\n",
    "    a+=1\n",
    "    plt.tight_layout()\n",
    "plt.show()"
   ]
  },
  {
   "cell_type": "markdown",
   "id": "0592115b-b813-44b9-9f76-0517fced5824",
   "metadata": {},
   "source": [
    "* Churn berdasarkan NumberOfDeviceRegistered :\n",
    "Pelanggan churn paling tinggi berada di 3-4 device yang terdaftar dalam pelayanan.\n",
    "\n",
    "* Churn berdasarkan SatisfactionScore :\n",
    "Pelanggan churn paling tinggi yang memberikan nilai kepuasan di angka 3.\n",
    "\n",
    "* Churn berdasarkan NumberOfAddress :\n",
    "Pelanggan churn paling tinggi adalah yang memiliki 2-3 alamat yang terdaftar dalam pelayanan.\n",
    "\n",
    "* Churn berdasarkan Complain :\n",
    "Pelanggan yang churn cenderung melakukan komplain terhadap pelayanan."
   ]
  },
  {
   "cell_type": "code",
   "execution_count": 16,
   "id": "62783a73-fda6-40ad-812e-a183ab8a9864",
   "metadata": {},
   "outputs": [
    {
     "data": {
      "image/png": "[encoded data removed]",
      "text/plain": [
       "<Figure size 1080x504 with 2 Axes>"
      ]
     },
     "metadata": {},
     "output_type": "display_data"
    }
   ],
   "source": [
    "kategorik=['PreferedOrderCat','MaritalStatus']\n",
    "plt.figure(figsize=(15,7))\n",
    "a=1\n",
    "for i in kategorik:  \n",
    "    plt.subplot(2,2,a)\n",
    "    plt.style.use('seaborn')\n",
    "    sns.countplot(x=df[df['Churn']==1][i])\n",
    "    plt.title(f'Churn berdasarkan {i}', fontsize=10)\n",
    "    plt.ylabel('Count')\n",
    "    a+=1\n",
    "    plt.tight_layout()\n",
    "plt.show()"
   ]
  },
  {
   "cell_type": "markdown",
   "id": "e72d46e4-f3b9-4e24-9652-4e90472ed24a",
   "metadata": {},
   "source": [
    "* Pelanggan yang churn tertinggi ada pada kategori Mobile Phone.\n",
    "* Pelanggan yang churn tertinggi dengan status masih Single."
   ]
  },
  {
   "cell_type": "markdown",
   "id": "9d95d30e-68fb-4657-86bf-6ccb7a18a5f3",
   "metadata": {},
   "source": [
    "# Data Preprocessing"
   ]
  },
  {
   "cell_type": "markdown",
   "id": "720e3ad8-e785-4237-8644-20057ec07312",
   "metadata": {},
   "source": [
    "## Data Spliting\n",
    "\n",
    "* Feature : Tenure, WarehouseToHome, NumberOfDeviceRegistered, PreferedOrderCat, SatisfactionScore, MaritalStatus, NumberOfAddress, Complain, DaySinceLastOrder, CashbackAmount\n",
    "* Target : Churn"
   ]
  },
  {
   "cell_type": "code",
   "execution_count": 17,
   "id": "e0a791ed-1b55-46a8-9e25-9ee0c7cbed88",
   "metadata": {},
   "outputs": [
    {
     "data": {
      "text/html": [
       "<div>\n",
       "<style scoped>\n",
       "    .dataframe tbody tr th:only-of-type {\n",
       "        vertical-align: middle;\n",
       "    }\n",
       "\n",
       "    .dataframe tbody tr th {\n",
       "        vertical-align: top;\n",
       "    }\n",
       "\n",
       "    .dataframe thead th {\n",
       "        text-align: right;\n",
       "    }\n",
       "</style>\n",
       "<table border=\"1\" class=\"dataframe\">\n",
       "  <thead>\n",
       "    <tr style=\"text-align: right;\">\n",
       "      <th></th>\n",
       "      <th>Tenure</th>\n",
       "      <th>WarehouseToHome</th>\n",
       "      <th>NumberOfDeviceRegistered</th>\n",
       "      <th>PreferedOrderCat</th>\n",
       "      <th>SatisfactionScore</th>\n",
       "      <th>MaritalStatus</th>\n",
       "      <th>NumberOfAddress</th>\n",
       "      <th>Complain</th>\n",
       "      <th>DaySinceLastOrder</th>\n",
       "      <th>CashbackAmount</th>\n",
       "      <th>Churn</th>\n",
       "      <th>CashbackAmountClass</th>\n",
       "    </tr>\n",
       "  </thead>\n",
       "  <tbody>\n",
       "    <tr>\n",
       "      <th>0</th>\n",
       "      <td>15.0</td>\n",
       "      <td>29.0</td>\n",
       "      <td>4</td>\n",
       "      <td>Laptop &amp; Accessory</td>\n",
       "      <td>3</td>\n",
       "      <td>Single</td>\n",
       "      <td>2</td>\n",
       "      <td>0</td>\n",
       "      <td>7.0</td>\n",
       "      <td>143.32</td>\n",
       "      <td>0</td>\n",
       "      <td>Sedang</td>\n",
       "    </tr>\n",
       "    <tr>\n",
       "      <th>1</th>\n",
       "      <td>7.0</td>\n",
       "      <td>25.0</td>\n",
       "      <td>4</td>\n",
       "      <td>Mobile Phone</td>\n",
       "      <td>1</td>\n",
       "      <td>Married</td>\n",
       "      <td>2</td>\n",
       "      <td>0</td>\n",
       "      <td>7.0</td>\n",
       "      <td>129.29</td>\n",
       "      <td>0</td>\n",
       "      <td>Kecil</td>\n",
       "    </tr>\n",
       "    <tr>\n",
       "      <th>2</th>\n",
       "      <td>27.0</td>\n",
       "      <td>13.0</td>\n",
       "      <td>3</td>\n",
       "      <td>Laptop &amp; Accessory</td>\n",
       "      <td>1</td>\n",
       "      <td>Married</td>\n",
       "      <td>5</td>\n",
       "      <td>0</td>\n",
       "      <td>7.0</td>\n",
       "      <td>168.54</td>\n",
       "      <td>0</td>\n",
       "      <td>Sedang</td>\n",
       "    </tr>\n",
       "    <tr>\n",
       "      <th>3</th>\n",
       "      <td>20.0</td>\n",
       "      <td>25.0</td>\n",
       "      <td>4</td>\n",
       "      <td>Fashion</td>\n",
       "      <td>3</td>\n",
       "      <td>Divorced</td>\n",
       "      <td>7</td>\n",
       "      <td>0</td>\n",
       "      <td>NaN</td>\n",
       "      <td>230.27</td>\n",
       "      <td>0</td>\n",
       "      <td>Besar</td>\n",
       "    </tr>\n",
       "    <tr>\n",
       "      <th>4</th>\n",
       "      <td>30.0</td>\n",
       "      <td>15.0</td>\n",
       "      <td>4</td>\n",
       "      <td>Others</td>\n",
       "      <td>4</td>\n",
       "      <td>Single</td>\n",
       "      <td>8</td>\n",
       "      <td>0</td>\n",
       "      <td>8.0</td>\n",
       "      <td>322.17</td>\n",
       "      <td>0</td>\n",
       "      <td>Sangat Besar</td>\n",
       "    </tr>\n",
       "  </tbody>\n",
       "</table>\n",
       "</div>"
      ],
      "text/plain": [
       "   Tenure  WarehouseToHome  NumberOfDeviceRegistered    PreferedOrderCat  \\\n",
       "0    15.0             29.0                         4  Laptop & Accessory   \n",
       "1     7.0             25.0                         4        Mobile Phone   \n",
       "2    27.0             13.0                         3  Laptop & Accessory   \n",
       "3    20.0             25.0                         4             Fashion   \n",
       "4    30.0             15.0                         4              Others   \n",
       "\n",
       "   SatisfactionScore MaritalStatus  NumberOfAddress  Complain  \\\n",
       "0                  3        Single                2         0   \n",
       "1                  1       Married                2         0   \n",
       "2                  1       Married                5         0   \n",
       "3                  3      Divorced                7         0   \n",
       "4                  4        Single                8         0   \n",
       "\n",
       "   DaySinceLastOrder  CashbackAmount  Churn CashbackAmountClass  \n",
       "0                7.0          143.32      0              Sedang  \n",
       "1                7.0          129.29      0               Kecil  \n",
       "2                7.0          168.54      0              Sedang  \n",
       "3                NaN          230.27      0               Besar  \n",
       "4                8.0          322.17      0        Sangat Besar  "
      ]
     },
     "execution_count": 17,
     "metadata": {},
     "output_type": "execute_result"
    }
   ],
   "source": [
    "# Binning\n",
    "bin=['Sangat Kecil','Kecil','Sedang','Besar','Sangat Besar']\n",
    "df['CashbackAmountClass']=pd.cut(df['CashbackAmount'],5,labels=bin)\n",
    "df.head()"
   ]
  },
  {
   "cell_type": "code",
   "execution_count": 18,
   "id": "ccd94035-da91-4371-b298-2399a77bed1e",
   "metadata": {},
   "outputs": [],
   "source": [
    "from sklearn.model_selection import train_test_split"
   ]
  },
  {
   "cell_type": "code",
   "execution_count": 19,
   "id": "382efeae-f534-4dd1-b082-c2e374513215",
   "metadata": {},
   "outputs": [],
   "source": [
    "x=df.drop(columns='Churn')\n",
    "y=df['Churn']"
   ]
  },
  {
   "cell_type": "code",
   "execution_count": 20,
   "id": "c4e74739-e34d-402b-ab7b-501f7f5274c4",
   "metadata": {},
   "outputs": [],
   "source": [
    "x_train, x_test, y_train, y_test = train_test_split(x, y, stratify=y, test_size=0.2, random_state=1994)"
   ]
  },
  {
   "cell_type": "code",
   "execution_count": 21,
   "id": "d6dea23e-6ec0-4907-ad72-9d9277834d3e",
   "metadata": {},
   "outputs": [],
   "source": [
    "from sklearn.preprocessing import OneHotEncoder\n",
    "from sklearn.compose import ColumnTransformer\n",
    "import category_encoders as ce\n",
    "from sklearn.impute import SimpleImputer\n",
    "from sklearn.pipeline import Pipeline"
   ]
  },
  {
   "cell_type": "code",
   "execution_count": 22,
   "id": "65971c2d-21da-4316-9248-8f9a4baaaf62",
   "metadata": {},
   "outputs": [],
   "source": [
    "# Mengisi missing value\n",
    "country_pipe=Pipeline([\n",
    "    ('impute',SimpleImputer(strategy='mean')),\n",
    "    ('binary',ce.BinaryEncoder())\n",
    "])"
   ]
  },
  {
   "cell_type": "code",
   "execution_count": 23,
   "id": "3fce754f-27c9-48a8-bc36-9453815fe4b3",
   "metadata": {},
   "outputs": [],
   "source": [
    "# Encoding\n",
    "ordinal=[\n",
    "    {'col':'CashbackAmountClass',\n",
    "    'mapping':{\n",
    "        'Sangat Kecil' : 0,\n",
    "        'Kecil': 1, \n",
    "        'Sedang': 2, \n",
    "        'Besar' : 3, \n",
    "        'Sangat Besar' : 4, \n",
    "    }}\n",
    "]"
   ]
  },
  {
   "cell_type": "code",
   "execution_count": 24,
   "id": "ada2999d-4b64-44c4-bbd2-b36bcb4383f3",
   "metadata": {},
   "outputs": [],
   "source": [
    "transformer=ColumnTransformer([\n",
    "    ('onehot',OneHotEncoder(drop='first'),['NumberOfDeviceRegistered','PreferedOrderCat','SatisfactionScore','MaritalStatus','Complain']),\n",
    "    ('pipeline',country_pipe,['Tenure','WarehouseToHome','NumberOfAddress','DaySinceLastOrder','CashbackAmount']),\n",
    "    ('ordinal',ce.OrdinalEncoder(mapping=ordinal),['CashbackAmountClass'])\n",
    "],remainder='passthrough')"
   ]
  },
  {
   "cell_type": "markdown",
   "id": "70c430d0-aa65-492d-a9fc-fba0c03f25a3",
   "metadata": {},
   "source": [
    "# Modeling"
   ]
  },
  {
   "cell_type": "code",
   "execution_count": 25,
   "id": "7dd41527-869f-4f76-9f10-f5d1250893d2",
   "metadata": {},
   "outputs": [],
   "source": [
    "#Library\n",
    "from sklearn.linear_model import LogisticRegression\n",
    "from sklearn.tree import DecisionTreeClassifier\n",
    "from sklearn.neighbors import KNeighborsClassifier\n",
    "from sklearn.ensemble import RandomForestClassifier,AdaBoostClassifier,GradientBoostingClassifier \n",
    "from xgboost.sklearn import XGBClassifier"
   ]
  },
  {
   "cell_type": "code",
   "execution_count": 26,
   "id": "49dad157-bae3-4c77-8859-9770c2e71f8b",
   "metadata": {},
   "outputs": [],
   "source": [
    "logreg=LogisticRegression(max_iter=50,random_state=1994)\n",
    "tree=DecisionTreeClassifier(max_depth=3,random_state=1994)\n",
    "knn=KNeighborsClassifier(n_neighbors=3)\n",
    "rf=RandomForestClassifier(max_depth=3,random_state=1994)\n",
    "xgb=XGBClassifier(n_estimators=50,learning_rate=0.1,max_depth=3,random_state=1994)\n",
    "ada=AdaBoostClassifier(tree,n_estimators=50,learning_rate=0.1,random_state=1994)\n",
    "gbc=GradientBoostingClassifier(n_estimators=50,learning_rate=0.1,max_depth=3,random_state=1994)"
   ]
  },
  {
   "cell_type": "markdown",
   "id": "d73c1c06-3087-42ec-b6e1-cb6b4d39b488",
   "metadata": {},
   "source": [
    "# Model Selection"
   ]
  },
  {
   "cell_type": "code",
   "execution_count": 27,
   "id": "94c6dd1c-9eda-4c5c-a84e-6610ef39e549",
   "metadata": {},
   "outputs": [],
   "source": [
    "from sklearn.model_selection import StratifiedKFold\n",
    "from sklearn.model_selection import cross_val_score"
   ]
  },
  {
   "cell_type": "code",
   "execution_count": 28,
   "id": "ec8388c3-ec11-434a-a2bc-338860d3a498",
   "metadata": {
    "collapsed": true,
    "jupyter": {
     "outputs_hidden": true
    },
    "tags": []
   },
   "outputs": [
    {
     "name": "stdout",
     "output_type": "stream",
     "text": [
      "Warning: No categorical columns found. Calling 'transform' will only return input data.\n",
      "Warning: No categorical columns found. Calling 'transform' will only return input data.\n",
      "Warning: No categorical columns found. Calling 'transform' will only return input data.\n",
      "Warning: No categorical columns found. Calling 'transform' will only return input data.\n",
      "Warning: No categorical columns found. Calling 'transform' will only return input data.\n",
      "Warning: No categorical columns found. Calling 'transform' will only return input data.\n",
      "Warning: No categorical columns found. Calling 'transform' will only return input data.\n",
      "Warning: No categorical columns found. Calling 'transform' will only return input data.\n",
      "Warning: No categorical columns found. Calling 'transform' will only return input data.\n",
      "Warning: No categorical columns found. Calling 'transform' will only return input data.\n",
      "Warning: No categorical columns found. Calling 'transform' will only return input data.\n",
      "Warning: No categorical columns found. Calling 'transform' will only return input data.\n",
      "Warning: No categorical columns found. Calling 'transform' will only return input data.\n",
      "Warning: No categorical columns found. Calling 'transform' will only return input data.\n",
      "Warning: No categorical columns found. Calling 'transform' will only return input data.\n",
      "Warning: No categorical columns found. Calling 'transform' will only return input data.\n",
      "Warning: No categorical columns found. Calling 'transform' will only return input data.\n",
      "Warning: No categorical columns found. Calling 'transform' will only return input data.\n",
      "Warning: No categorical columns found. Calling 'transform' will only return input data.\n",
      "Warning: No categorical columns found. Calling 'transform' will only return input data.\n",
      "Warning: No categorical columns found. Calling 'transform' will only return input data.\n",
      "Warning: No categorical columns found. Calling 'transform' will only return input data.\n",
      "Warning: No categorical columns found. Calling 'transform' will only return input data.\n",
      "Warning: No categorical columns found. Calling 'transform' will only return input data.\n",
      "Warning: No categorical columns found. Calling 'transform' will only return input data.\n",
      "Warning: No categorical columns found. Calling 'transform' will only return input data.\n",
      "Warning: No categorical columns found. Calling 'transform' will only return input data.\n",
      "Warning: No categorical columns found. Calling 'transform' will only return input data.\n",
      "Warning: No categorical columns found. Calling 'transform' will only return input data.\n",
      "Warning: No categorical columns found. Calling 'transform' will only return input data.\n",
      "Warning: No categorical columns found. Calling 'transform' will only return input data.\n",
      "Warning: No categorical columns found. Calling 'transform' will only return input data.\n",
      "Warning: No categorical columns found. Calling 'transform' will only return input data.\n",
      "Warning: No categorical columns found. Calling 'transform' will only return input data.\n",
      "Warning: No categorical columns found. Calling 'transform' will only return input data.\n"
     ]
    }
   ],
   "source": [
    "models=[logreg,tree,knn,rf,xgb,ada,gbc]\n",
    "score=[]\n",
    "rata=[]\n",
    "std=[]\n",
    "for i in models:\n",
    "    skfold=StratifiedKFold(n_splits=5)\n",
    "    estimator=Pipeline([\n",
    "        ('processing',transformer),\n",
    "        ('model',i)\n",
    "    ])\n",
    "    model_cv=cross_val_score(estimator,x_train,y_train,cv=skfold,scoring='f1')\n",
    "    score.append(model_cv)\n",
    "    rata.append(model_cv.mean())\n",
    "    std.append(model_cv.std())"
   ]
  },
  {
   "cell_type": "code",
   "execution_count": 29,
   "id": "02cd1559-9fed-48d4-8db5-267a38278fcc",
   "metadata": {},
   "outputs": [
    {
     "data": {
      "text/html": [
       "<div>\n",
       "<style scoped>\n",
       "    .dataframe tbody tr th:only-of-type {\n",
       "        vertical-align: middle;\n",
       "    }\n",
       "\n",
       "    .dataframe tbody tr th {\n",
       "        vertical-align: top;\n",
       "    }\n",
       "\n",
       "    .dataframe thead th {\n",
       "        text-align: right;\n",
       "    }\n",
       "</style>\n",
       "<table border=\"1\" class=\"dataframe\">\n",
       "  <thead>\n",
       "    <tr style=\"text-align: right;\">\n",
       "      <th></th>\n",
       "      <th>model</th>\n",
       "      <th>mean</th>\n",
       "      <th>std</th>\n",
       "    </tr>\n",
       "  </thead>\n",
       "  <tbody>\n",
       "    <tr>\n",
       "      <th>0</th>\n",
       "      <td>logreg</td>\n",
       "      <td>0.533443</td>\n",
       "      <td>0.048100</td>\n",
       "    </tr>\n",
       "    <tr>\n",
       "      <th>1</th>\n",
       "      <td>tree</td>\n",
       "      <td>0.602281</td>\n",
       "      <td>0.036308</td>\n",
       "    </tr>\n",
       "    <tr>\n",
       "      <th>2</th>\n",
       "      <td>knn</td>\n",
       "      <td>0.417249</td>\n",
       "      <td>0.030400</td>\n",
       "    </tr>\n",
       "    <tr>\n",
       "      <th>3</th>\n",
       "      <td>rf</td>\n",
       "      <td>0.121833</td>\n",
       "      <td>0.035731</td>\n",
       "    </tr>\n",
       "    <tr>\n",
       "      <th>4</th>\n",
       "      <td>xgb</td>\n",
       "      <td>0.595152</td>\n",
       "      <td>0.034188</td>\n",
       "    </tr>\n",
       "    <tr>\n",
       "      <th>5</th>\n",
       "      <td>ada</td>\n",
       "      <td>0.603614</td>\n",
       "      <td>0.036979</td>\n",
       "    </tr>\n",
       "    <tr>\n",
       "      <th>6</th>\n",
       "      <td>gbc</td>\n",
       "      <td>0.624256</td>\n",
       "      <td>0.039548</td>\n",
       "    </tr>\n",
       "  </tbody>\n",
       "</table>\n",
       "</div>"
      ],
      "text/plain": [
       "    model      mean       std\n",
       "0  logreg  0.533443  0.048100\n",
       "1    tree  0.602281  0.036308\n",
       "2     knn  0.417249  0.030400\n",
       "3      rf  0.121833  0.035731\n",
       "4     xgb  0.595152  0.034188\n",
       "5     ada  0.603614  0.036979\n",
       "6     gbc  0.624256  0.039548"
      ]
     },
     "execution_count": 29,
     "metadata": {},
     "output_type": "execute_result"
    }
   ],
   "source": [
    "pd.DataFrame({\n",
    "    'model':['logreg','tree','knn','rf','xgb','ada','gbc'],\n",
    "    'mean':rata,\n",
    "    'std':std\n",
    "})"
   ]
  },
  {
   "cell_type": "markdown",
   "id": "7b76ec78-b32c-4977-b635-bd0e4f8df15c",
   "metadata": {},
   "source": [
    "Hasil diatas menunjukan bahwa dua model terbaik adalah GBC & Adaboost. Kedua model tersebut akan kita jadikan sebagai benchmark model."
   ]
  },
  {
   "cell_type": "markdown",
   "id": "b9a4ef23-0742-4d56-a70b-f44aa05fba2d",
   "metadata": {},
   "source": [
    "# Test Model"
   ]
  },
  {
   "cell_type": "code",
   "execution_count": 30,
   "id": "3e279fed-f747-44b0-bbdd-52857fc26d96",
   "metadata": {},
   "outputs": [],
   "source": [
    "from sklearn.metrics import classification_report,confusion_matrix"
   ]
  },
  {
   "cell_type": "code",
   "execution_count": 31,
   "id": "f39b821d-2e37-4d8f-bad8-2e0df020dc00",
   "metadata": {},
   "outputs": [],
   "source": [
    "model={\n",
    "    'ada':AdaBoostClassifier(tree,n_estimators=50,learning_rate=0.1,random_state=1994),\n",
    "    'gbc':GradientBoostingClassifier(n_estimators=50,learning_rate=0.1,max_depth=3,random_state=1994)\n",
    "}"
   ]
  },
  {
   "cell_type": "code",
   "execution_count": 32,
   "id": "2fa2e9c8-5a98-418d-884a-a3ef543d662c",
   "metadata": {},
   "outputs": [
    {
     "name": "stdout",
     "output_type": "stream",
     "text": [
      "Warning: No categorical columns found. Calling 'transform' will only return input data.\n",
      "ada\n",
      "              precision    recall  f1-score   support\n",
      "\n",
      "           0       0.91      0.96      0.93       546\n",
      "           1       0.73      0.50      0.59       107\n",
      "\n",
      "    accuracy                           0.89       653\n",
      "   macro avg       0.82      0.73      0.76       653\n",
      "weighted avg       0.88      0.89      0.88       653\n",
      "\n",
      "Warning: No categorical columns found. Calling 'transform' will only return input data.\n",
      "gbc\n",
      "              precision    recall  f1-score   support\n",
      "\n",
      "           0       0.91      0.97      0.93       546\n",
      "           1       0.73      0.49      0.58       107\n",
      "\n",
      "    accuracy                           0.89       653\n",
      "   macro avg       0.82      0.73      0.76       653\n",
      "weighted avg       0.88      0.89      0.88       653\n",
      "\n"
     ]
    }
   ],
   "source": [
    "for i,j in model.items():\n",
    "    estimator=Pipeline([\n",
    "    ('processing',transformer),\n",
    "    ('model',j)\n",
    "    ])\n",
    "    estimator.fit(x_train,y_train)\n",
    "    y_pred=estimator.predict(x_test)\n",
    "    print(i)\n",
    "    print(classification_report(y_test,y_pred))"
   ]
  },
  {
   "cell_type": "markdown",
   "id": "ece3afbb-74a2-4c35-aa6b-e6be34f4f717",
   "metadata": {},
   "source": [
    "# Tuning"
   ]
  },
  {
   "cell_type": "code",
   "execution_count": 33,
   "id": "dbb4c3a3-20a3-4e09-bc83-570074febae2",
   "metadata": {},
   "outputs": [],
   "source": [
    "from sklearn.model_selection import GridSearchCV,StratifiedKFold"
   ]
  },
  {
   "cell_type": "code",
   "execution_count": 34,
   "id": "375b383a-f656-4464-9028-2eac2985c399",
   "metadata": {},
   "outputs": [],
   "source": [
    "ada=AdaBoostClassifier(tree,n_estimators=50,learning_rate=0.1,random_state=1994)\n",
    "gbc=GradientBoostingClassifier(n_estimators=50,learning_rate=0.1,max_depth=3,random_state=1994)"
   ]
  },
  {
   "cell_type": "code",
   "execution_count": 35,
   "id": "a6b47a5d-dfa1-47f7-b4d0-4d12288b9eb5",
   "metadata": {},
   "outputs": [],
   "source": [
    "tunning_models=[xgb,gbc]\n",
    "for model in tunning_models: \n",
    "    estimator=Pipeline([\n",
    "        ('processing',transformer),\n",
    "        ('model',model)\n",
    "])"
   ]
  },
  {
   "cell_type": "code",
   "execution_count": 36,
   "id": "d5c506cb-14ea-400c-91a7-9f728ce989d9",
   "metadata": {},
   "outputs": [],
   "source": [
    "hyperparam=[\n",
    "    {'model':[ada],\n",
    "    'model__learning_rate':[0.1],\n",
    "    'model__base_estimator__criterion':['gini','entropy'],\n",
    "    'model__base_estimator__max_depth':[1,2,3,4,5],\n",
    "    'model__n_estimators':[200]},\n",
    "    {'model':[ada],\n",
    "    'model__learning_rate':[0.01],\n",
    "    'model__base_estimator__criterion':['gini','entropy'],\n",
    "    'model__base_estimator__max_depth':[1,2,3,4,5],\n",
    "    'model__n_estimators':[500]},\n",
    "    {'model':[ada],\n",
    "    'model__learning_rate':[0.001],\n",
    "    'model__base_estimator__criterion':['gini','entropy'],\n",
    "    'model__base_estimator__max_depth':[1,2,3,4,5],\n",
    "    'model__n_estimators':[1000]},\n",
    "     {'model':[gbc],\n",
    "    'model__learning_rate':[0.1],\n",
    "    'model__n_estimators':[200],\n",
    "    'model__max_depth':[1,2,3,4,5]},\n",
    "    {'model':[gbc],\n",
    "    'model__learning_rate':[0.01],\n",
    "    'model__n_estimators':[500],\n",
    "    'model__max_depth':[1,2,3,4,5]},\n",
    "    {'model':[gbc],\n",
    "    'model__learning_rate':[0.001],\n",
    "    'model__n_estimators':[1000],\n",
    "    'model__max_depth':[1,2,3,4,5]},\n",
    "    \n",
    "]"
   ]
  },
  {
   "cell_type": "code",
   "execution_count": 37,
   "id": "c75caf6e-5baa-4ce8-82af-3467abae73e0",
   "metadata": {},
   "outputs": [],
   "source": [
    "skfold=StratifiedKFold(n_splits=5)\n",
    "grid=GridSearchCV(estimator,\n",
    "                 param_grid=hyperparam,\n",
    "                 cv=skfold,\n",
    "                 scoring='f1',\n",
    "                 n_jobs=-1)"
   ]
  },
  {
   "cell_type": "code",
   "execution_count": 38,
   "id": "f5266bc3-dd76-434c-bfca-57045c08246d",
   "metadata": {},
   "outputs": [
    {
     "name": "stdout",
     "output_type": "stream",
     "text": [
      "Warning: No categorical columns found. Calling 'transform' will only return input data.\n"
     ]
    },
    {
     "data": {
      "text/html": [
       "<style>#sk-container-id-1 {color: black;background-color: white;}#sk-container-id-1 pre{padding: 0;}#sk-container-id-1 div.sk-toggleable {background-color: white;}#sk-container-id-1 label.sk-toggleable__label {cursor: pointer;display: block;width: 100%;margin-bottom: 0;padding: 0.3em;box-sizing: border-box;text-align: center;}#sk-container-id-1 label.sk-toggleable__label-arrow:before {content: \"▸\";float: left;margin-right: 0.25em;color: #696969;}#sk-container-id-1 label.sk-toggleable__label-arrow:hover:before {color: black;}#sk-container-id-1 div.sk-estimator:hover label.sk-toggleable__label-arrow:before {color: black;}#sk-container-id-1 div.sk-toggleable__content {max-height: 0;max-width: 0;overflow: hidden;text-align: left;background-color: #f0f8ff;}#sk-container-id-1 div.sk-toggleable__content pre {margin: 0.2em;color: black;border-radius: 0.25em;background-color: #f0f8ff;}#sk-container-id-1 input.sk-toggleable__control:checked~div.sk-toggleable__content {max-height: 200px;max-width: 100%;overflow: auto;}#sk-container-id-1 input.sk-toggleable__control:checked~label.sk-toggleable__label-arrow:before {content: \"▾\";}#sk-container-id-1 div.sk-estimator input.sk-toggleable__control:checked~label.sk-toggleable__label {background-color: #d4ebff;}#sk-container-id-1 div.sk-label input.sk-toggleable__control:checked~label.sk-toggleable__label {background-color: #d4ebff;}#sk-container-id-1 input.sk-hidden--visually {border: 0;clip: rect(1px 1px 1px 1px);clip: rect(1px, 1px, 1px, 1px);height: 1px;margin: -1px;overflow: hidden;padding: 0;position: absolute;width: 1px;}#sk-container-id-1 div.sk-estimator {font-family: monospace;background-color: #f0f8ff;border: 1px dotted black;border-radius: 0.25em;box-sizing: border-box;margin-bottom: 0.5em;}#sk-container-id-1 div.sk-estimator:hover {background-color: #d4ebff;}#sk-container-id-1 div.sk-parallel-item::after {content: \"\";width: 100%;border-bottom: 1px solid gray;flex-grow: 1;}#sk-container-id-1 div.sk-label:hover label.sk-toggleable__label {background-color: #d4ebff;}#sk-container-id-1 div.sk-serial::before {content: \"\";position: absolute;border-left: 1px solid gray;box-sizing: border-box;top: 0;bottom: 0;left: 50%;z-index: 0;}#sk-container-id-1 div.sk-serial {display: flex;flex-direction: column;align-items: center;background-color: white;padding-right: 0.2em;padding-left: 0.2em;position: relative;}#sk-container-id-1 div.sk-item {position: relative;z-index: 1;}#sk-container-id-1 div.sk-parallel {display: flex;align-items: stretch;justify-content: center;background-color: white;position: relative;}#sk-container-id-1 div.sk-item::before, #sk-container-id-1 div.sk-parallel-item::before {content: \"\";position: absolute;border-left: 1px solid gray;box-sizing: border-box;top: 0;bottom: 0;left: 50%;z-index: -1;}#sk-container-id-1 div.sk-parallel-item {display: flex;flex-direction: column;z-index: 1;position: relative;background-color: white;}#sk-container-id-1 div.sk-parallel-item:first-child::after {align-self: flex-end;width: 50%;}#sk-container-id-1 div.sk-parallel-item:last-child::after {align-self: flex-start;width: 50%;}#sk-container-id-1 div.sk-parallel-item:only-child::after {width: 0;}#sk-container-id-1 div.sk-dashed-wrapped {border: 1px dashed gray;margin: 0 0.4em 0.5em 0.4em;box-sizing: border-box;padding-bottom: 0.4em;background-color: white;}#sk-container-id-1 div.sk-label label {font-family: monospace;font-weight: bold;display: inline-block;line-height: 1.2em;}#sk-container-id-1 div.sk-label-container {text-align: center;}#sk-container-id-1 div.sk-container {/* jupyter's `normalize.less` sets `[hidden] { display: none; }` but bootstrap.min.css set `[hidden] { display: none !important; }` so we also need the `!important` here to be able to override the default hidden behavior on the sphinx rendered scikit-learn.org. See: https://github.com/scikit-learn/scikit-learn/issues/21755 */display: inline-block !important;position: relative;}#sk-container-id-1 div.sk-text-repr-fallback {display: none;}</style><div id=\"sk-container-id-1\" class=\"sk-top-container\"><div class=\"sk-text-repr-fallback\"><pre>GridSearchCV(cv=StratifiedKFold(n_splits=5, random_state=None, shuffle=False),\n",
       "             estimator=Pipeline(steps=[(&#x27;processing&#x27;,\n",
       "                                        ColumnTransformer(remainder=&#x27;passthrough&#x27;,\n",
       "                                                          transformers=[(&#x27;onehot&#x27;,\n",
       "                                                                         OneHotEncoder(drop=&#x27;first&#x27;),\n",
       "                                                                         [&#x27;NumberOfDeviceRegistered&#x27;,\n",
       "                                                                          &#x27;PreferedOrderCat&#x27;,\n",
       "                                                                          &#x27;SatisfactionScore&#x27;,\n",
       "                                                                          &#x27;MaritalStatus&#x27;,\n",
       "                                                                          &#x27;Complain&#x27;]),\n",
       "                                                                        (&#x27;pipeline&#x27;,\n",
       "                                                                         Pipeline(steps=[(&#x27;impute&#x27;,\n",
       "                                                                                          Simple...\n",
       "                         {&#x27;model&#x27;: [GradientBoostingClassifier(max_depth=4,\n",
       "                                                               n_estimators=200,\n",
       "                                                               random_state=1994)],\n",
       "                          &#x27;model__learning_rate&#x27;: [0.01],\n",
       "                          &#x27;model__max_depth&#x27;: [1, 2, 3, 4, 5],\n",
       "                          &#x27;model__n_estimators&#x27;: [500]},\n",
       "                         {&#x27;model&#x27;: [GradientBoostingClassifier(max_depth=4,\n",
       "                                                               n_estimators=200,\n",
       "                                                               random_state=1994)],\n",
       "                          &#x27;model__learning_rate&#x27;: [0.001],\n",
       "                          &#x27;model__max_depth&#x27;: [1, 2, 3, 4, 5],\n",
       "                          &#x27;model__n_estimators&#x27;: [1000]}],\n",
       "             scoring=&#x27;f1&#x27;)</pre><b>In a Jupyter environment, please rerun this cell to show the HTML representation or trust the notebook. <br />On GitHub, the HTML representation is unable to render, please try loading this page with nbviewer.org.</b></div><div class=\"sk-container\" hidden><div class=\"sk-item sk-dashed-wrapped\"><div class=\"sk-label-container\"><div class=\"sk-label sk-toggleable\"><input class=\"sk-toggleable__control sk-hidden--visually\" id=\"sk-estimator-id-1\" type=\"checkbox\" ><label for=\"sk-estimator-id-1\" class=\"sk-toggleable__label sk-toggleable__label-arrow\">GridSearchCV</label><div class=\"sk-toggleable__content\"><pre>GridSearchCV(cv=StratifiedKFold(n_splits=5, random_state=None, shuffle=False),\n",
       "             estimator=Pipeline(steps=[(&#x27;processing&#x27;,\n",
       "                                        ColumnTransformer(remainder=&#x27;passthrough&#x27;,\n",
       "                                                          transformers=[(&#x27;onehot&#x27;,\n",
       "                                                                         OneHotEncoder(drop=&#x27;first&#x27;),\n",
       "                                                                         [&#x27;NumberOfDeviceRegistered&#x27;,\n",
       "                                                                          &#x27;PreferedOrderCat&#x27;,\n",
       "                                                                          &#x27;SatisfactionScore&#x27;,\n",
       "                                                                          &#x27;MaritalStatus&#x27;,\n",
       "                                                                          &#x27;Complain&#x27;]),\n",
       "                                                                        (&#x27;pipeline&#x27;,\n",
       "                                                                         Pipeline(steps=[(&#x27;impute&#x27;,\n",
       "                                                                                          Simple...\n",
       "                         {&#x27;model&#x27;: [GradientBoostingClassifier(max_depth=4,\n",
       "                                                               n_estimators=200,\n",
       "                                                               random_state=1994)],\n",
       "                          &#x27;model__learning_rate&#x27;: [0.01],\n",
       "                          &#x27;model__max_depth&#x27;: [1, 2, 3, 4, 5],\n",
       "                          &#x27;model__n_estimators&#x27;: [500]},\n",
       "                         {&#x27;model&#x27;: [GradientBoostingClassifier(max_depth=4,\n",
       "                                                               n_estimators=200,\n",
       "                                                               random_state=1994)],\n",
       "                          &#x27;model__learning_rate&#x27;: [0.001],\n",
       "                          &#x27;model__max_depth&#x27;: [1, 2, 3, 4, 5],\n",
       "                          &#x27;model__n_estimators&#x27;: [1000]}],\n",
       "             scoring=&#x27;f1&#x27;)</pre></div></div></div><div class=\"sk-parallel\"><div class=\"sk-parallel-item\"><div class=\"sk-item\"><div class=\"sk-label-container\"><div class=\"sk-label sk-toggleable\"><input class=\"sk-toggleable__control sk-hidden--visually\" id=\"sk-estimator-id-2\" type=\"checkbox\" ><label for=\"sk-estimator-id-2\" class=\"sk-toggleable__label sk-toggleable__label-arrow\">estimator: Pipeline</label><div class=\"sk-toggleable__content\"><pre>Pipeline(steps=[(&#x27;processing&#x27;,\n",
       "                 ColumnTransformer(remainder=&#x27;passthrough&#x27;,\n",
       "                                   transformers=[(&#x27;onehot&#x27;,\n",
       "                                                  OneHotEncoder(drop=&#x27;first&#x27;),\n",
       "                                                  [&#x27;NumberOfDeviceRegistered&#x27;,\n",
       "                                                   &#x27;PreferedOrderCat&#x27;,\n",
       "                                                   &#x27;SatisfactionScore&#x27;,\n",
       "                                                   &#x27;MaritalStatus&#x27;,\n",
       "                                                   &#x27;Complain&#x27;]),\n",
       "                                                 (&#x27;pipeline&#x27;,\n",
       "                                                  Pipeline(steps=[(&#x27;impute&#x27;,\n",
       "                                                                   SimpleImputer()),\n",
       "                                                                  (&#x27;binary&#x27;,\n",
       "                                                                   BinaryEncoder())]),\n",
       "                                                  [&#x27;Tenure&#x27;, &#x27;WarehouseToHome&#x27;,\n",
       "                                                   &#x27;NumberOfAddress&#x27;,\n",
       "                                                   &#x27;DaySinceLastOrder&#x27;,\n",
       "                                                   &#x27;CashbackAmount&#x27;]),\n",
       "                                                 (&#x27;ordinal&#x27;,\n",
       "                                                  OrdinalEncoder(mapping=[{&#x27;col&#x27;: &#x27;CashbackAmountClass&#x27;,\n",
       "                                                                           &#x27;mapping&#x27;: {&#x27;Besar&#x27;: 3,\n",
       "                                                                                       &#x27;Kecil&#x27;: 1,\n",
       "                                                                                       &#x27;Sangat Besar&#x27;: 4,\n",
       "                                                                                       &#x27;Sangat Kecil&#x27;: 0,\n",
       "                                                                                       &#x27;Sedang&#x27;: 2}}]),\n",
       "                                                  [&#x27;CashbackAmountClass&#x27;])])),\n",
       "                (&#x27;model&#x27;,\n",
       "                 GradientBoostingClassifier(max_depth=4, n_estimators=200,\n",
       "                                            random_state=1994))])</pre></div></div></div><div class=\"sk-serial\"><div class=\"sk-item\"><div class=\"sk-serial\"><div class=\"sk-item sk-dashed-wrapped\"><div class=\"sk-label-container\"><div class=\"sk-label sk-toggleable\"><input class=\"sk-toggleable__control sk-hidden--visually\" id=\"sk-estimator-id-3\" type=\"checkbox\" ><label for=\"sk-estimator-id-3\" class=\"sk-toggleable__label sk-toggleable__label-arrow\">processing: ColumnTransformer</label><div class=\"sk-toggleable__content\"><pre>ColumnTransformer(remainder=&#x27;passthrough&#x27;,\n",
       "                  transformers=[(&#x27;onehot&#x27;, OneHotEncoder(drop=&#x27;first&#x27;),\n",
       "                                 [&#x27;NumberOfDeviceRegistered&#x27;,\n",
       "                                  &#x27;PreferedOrderCat&#x27;, &#x27;SatisfactionScore&#x27;,\n",
       "                                  &#x27;MaritalStatus&#x27;, &#x27;Complain&#x27;]),\n",
       "                                (&#x27;pipeline&#x27;,\n",
       "                                 Pipeline(steps=[(&#x27;impute&#x27;, SimpleImputer()),\n",
       "                                                 (&#x27;binary&#x27;, BinaryEncoder())]),\n",
       "                                 [&#x27;Tenure&#x27;, &#x27;WarehouseToHome&#x27;,\n",
       "                                  &#x27;NumberOfAddress&#x27;, &#x27;DaySinceLastOrder&#x27;,\n",
       "                                  &#x27;CashbackAmount&#x27;]),\n",
       "                                (&#x27;ordinal&#x27;,\n",
       "                                 OrdinalEncoder(mapping=[{&#x27;col&#x27;: &#x27;CashbackAmountClass&#x27;,\n",
       "                                                          &#x27;mapping&#x27;: {&#x27;Besar&#x27;: 3,\n",
       "                                                                      &#x27;Kecil&#x27;: 1,\n",
       "                                                                      &#x27;Sangat Besar&#x27;: 4,\n",
       "                                                                      &#x27;Sangat Kecil&#x27;: 0,\n",
       "                                                                      &#x27;Sedang&#x27;: 2}}]),\n",
       "                                 [&#x27;CashbackAmountClass&#x27;])])</pre></div></div></div><div class=\"sk-parallel\"><div class=\"sk-parallel-item\"><div class=\"sk-item\"><div class=\"sk-label-container\"><div class=\"sk-label sk-toggleable\"><input class=\"sk-toggleable__control sk-hidden--visually\" id=\"sk-estimator-id-4\" type=\"checkbox\" ><label for=\"sk-estimator-id-4\" class=\"sk-toggleable__label sk-toggleable__label-arrow\">onehot</label><div class=\"sk-toggleable__content\"><pre>[&#x27;NumberOfDeviceRegistered&#x27;, &#x27;PreferedOrderCat&#x27;, &#x27;SatisfactionScore&#x27;, &#x27;MaritalStatus&#x27;, &#x27;Complain&#x27;]</pre></div></div></div><div class=\"sk-serial\"><div class=\"sk-item\"><div class=\"sk-estimator sk-toggleable\"><input class=\"sk-toggleable__control sk-hidden--visually\" id=\"sk-estimator-id-5\" type=\"checkbox\" ><label for=\"sk-estimator-id-5\" class=\"sk-toggleable__label sk-toggleable__label-arrow\">OneHotEncoder</label><div class=\"sk-toggleable__content\"><pre>OneHotEncoder(drop=&#x27;first&#x27;)</pre></div></div></div></div></div></div><div class=\"sk-parallel-item\"><div class=\"sk-item\"><div class=\"sk-label-container\"><div class=\"sk-label sk-toggleable\"><input class=\"sk-toggleable__control sk-hidden--visually\" id=\"sk-estimator-id-6\" type=\"checkbox\" ><label for=\"sk-estimator-id-6\" class=\"sk-toggleable__label sk-toggleable__label-arrow\">pipeline</label><div class=\"sk-toggleable__content\"><pre>[&#x27;Tenure&#x27;, &#x27;WarehouseToHome&#x27;, &#x27;NumberOfAddress&#x27;, &#x27;DaySinceLastOrder&#x27;, &#x27;CashbackAmount&#x27;]</pre></div></div></div><div class=\"sk-serial\"><div class=\"sk-item\"><div class=\"sk-serial\"><div class=\"sk-item\"><div class=\"sk-estimator sk-toggleable\"><input class=\"sk-toggleable__control sk-hidden--visually\" id=\"sk-estimator-id-7\" type=\"checkbox\" ><label for=\"sk-estimator-id-7\" class=\"sk-toggleable__label sk-toggleable__label-arrow\">SimpleImputer</label><div class=\"sk-toggleable__content\"><pre>SimpleImputer()</pre></div></div></div><div class=\"sk-item\"><div class=\"sk-estimator sk-toggleable\"><input class=\"sk-toggleable__control sk-hidden--visually\" id=\"sk-estimator-id-8\" type=\"checkbox\" ><label for=\"sk-estimator-id-8\" class=\"sk-toggleable__label sk-toggleable__label-arrow\">BinaryEncoder</label><div class=\"sk-toggleable__content\"><pre>BinaryEncoder()</pre></div></div></div></div></div></div></div></div><div class=\"sk-parallel-item\"><div class=\"sk-item\"><div class=\"sk-label-container\"><div class=\"sk-label sk-toggleable\"><input class=\"sk-toggleable__control sk-hidden--visually\" id=\"sk-estimator-id-9\" type=\"checkbox\" ><label for=\"sk-estimator-id-9\" class=\"sk-toggleable__label sk-toggleable__label-arrow\">ordinal</label><div class=\"sk-toggleable__content\"><pre>[&#x27;CashbackAmountClass&#x27;]</pre></div></div></div><div class=\"sk-serial\"><div class=\"sk-item\"><div class=\"sk-estimator sk-toggleable\"><input class=\"sk-toggleable__control sk-hidden--visually\" id=\"sk-estimator-id-10\" type=\"checkbox\" ><label for=\"sk-estimator-id-10\" class=\"sk-toggleable__label sk-toggleable__label-arrow\">OrdinalEncoder</label><div class=\"sk-toggleable__content\"><pre>OrdinalEncoder(mapping=[{&#x27;col&#x27;: &#x27;CashbackAmountClass&#x27;,\n",
       "                         &#x27;mapping&#x27;: {&#x27;Besar&#x27;: 3, &#x27;Kecil&#x27;: 1, &#x27;Sangat Besar&#x27;: 4,\n",
       "                                     &#x27;Sangat Kecil&#x27;: 0, &#x27;Sedang&#x27;: 2}}])</pre></div></div></div></div></div></div><div class=\"sk-parallel-item\"><div class=\"sk-item\"><div class=\"sk-label-container\"><div class=\"sk-label sk-toggleable\"><input class=\"sk-toggleable__control sk-hidden--visually\" id=\"sk-estimator-id-11\" type=\"checkbox\" ><label for=\"sk-estimator-id-11\" class=\"sk-toggleable__label sk-toggleable__label-arrow\">remainder</label><div class=\"sk-toggleable__content\"><pre>[]</pre></div></div></div><div class=\"sk-serial\"><div class=\"sk-item\"><div class=\"sk-estimator sk-toggleable\"><input class=\"sk-toggleable__control sk-hidden--visually\" id=\"sk-estimator-id-12\" type=\"checkbox\" ><label for=\"sk-estimator-id-12\" class=\"sk-toggleable__label sk-toggleable__label-arrow\">passthrough</label><div class=\"sk-toggleable__content\"><pre>passthrough</pre></div></div></div></div></div></div></div></div><div class=\"sk-item\"><div class=\"sk-estimator sk-toggleable\"><input class=\"sk-toggleable__control sk-hidden--visually\" id=\"sk-estimator-id-13\" type=\"checkbox\" ><label for=\"sk-estimator-id-13\" class=\"sk-toggleable__label sk-toggleable__label-arrow\">GradientBoostingClassifier</label><div class=\"sk-toggleable__content\"><pre>GradientBoostingClassifier(max_depth=4, n_estimators=200, random_state=1994)</pre></div></div></div></div></div></div></div></div></div></div></div></div>"
      ],
      "text/plain": [
       "GridSearchCV(cv=StratifiedKFold(n_splits=5, random_state=None, shuffle=False),\n",
       "             estimator=Pipeline(steps=[('processing',\n",
       "                                        ColumnTransformer(remainder='passthrough',\n",
       "                                                          transformers=[('onehot',\n",
       "                                                                         OneHotEncoder(drop='first'),\n",
       "                                                                         ['NumberOfDeviceRegistered',\n",
       "                                                                          'PreferedOrderCat',\n",
       "                                                                          'SatisfactionScore',\n",
       "                                                                          'MaritalStatus',\n",
       "                                                                          'Complain']),\n",
       "                                                                        ('pipeline',\n",
       "                                                                         Pipeline(steps=[('impute',\n",
       "                                                                                          Simple...\n",
       "                         {'model': [GradientBoostingClassifier(max_depth=4,\n",
       "                                                               n_estimators=200,\n",
       "                                                               random_state=1994)],\n",
       "                          'model__learning_rate': [0.01],\n",
       "                          'model__max_depth': [1, 2, 3, 4, 5],\n",
       "                          'model__n_estimators': [500]},\n",
       "                         {'model': [GradientBoostingClassifier(max_depth=4,\n",
       "                                                               n_estimators=200,\n",
       "                                                               random_state=1994)],\n",
       "                          'model__learning_rate': [0.001],\n",
       "                          'model__max_depth': [1, 2, 3, 4, 5],\n",
       "                          'model__n_estimators': [1000]}],\n",
       "             scoring='f1')"
      ]
     },
     "execution_count": 38,
     "metadata": {},
     "output_type": "execute_result"
    }
   ],
   "source": [
    "grid.fit(x_train,y_train)"
   ]
  },
  {
   "cell_type": "code",
   "execution_count": 39,
   "id": "807a3eae-dd26-4834-aa24-1e05d4fceaa3",
   "metadata": {},
   "outputs": [
    {
     "data": {
      "text/plain": [
       "({'model': GradientBoostingClassifier(max_depth=4, n_estimators=200, random_state=1994),\n",
       "  'model__learning_rate': 0.1,\n",
       "  'model__max_depth': 4,\n",
       "  'model__n_estimators': 200},\n",
       " 0.7125967710193174)"
      ]
     },
     "execution_count": 39,
     "metadata": {},
     "output_type": "execute_result"
    }
   ],
   "source": [
    "grid.best_params_, grid.best_score_"
   ]
  },
  {
   "cell_type": "markdown",
   "id": "6f63f198-a840-4aec-b9eb-53635425cacb",
   "metadata": {},
   "source": [
    "Hasil tersebut menunjukan model terbaik adalah GBC."
   ]
  },
  {
   "cell_type": "markdown",
   "id": "10f73cd0-5ad0-4cab-a5d6-699dc76c07b8",
   "metadata": {},
   "source": [
    "# Before vs After Tuning"
   ]
  },
  {
   "cell_type": "code",
   "execution_count": 40,
   "id": "00378550-c89a-4c87-bac9-64ef139bb75f",
   "metadata": {},
   "outputs": [
    {
     "name": "stdout",
     "output_type": "stream",
     "text": [
      "Warning: No categorical columns found. Calling 'transform' will only return input data.\n",
      "              precision    recall  f1-score   support\n",
      "\n",
      "           0       0.91      0.97      0.93       546\n",
      "           1       0.73      0.49      0.58       107\n",
      "\n",
      "    accuracy                           0.89       653\n",
      "   macro avg       0.82      0.73      0.76       653\n",
      "weighted avg       0.88      0.89      0.88       653\n",
      "\n"
     ]
    }
   ],
   "source": [
    "# Before Tuning\n",
    "gbc=GradientBoostingClassifier(n_estimators=50,learning_rate=0.1,max_depth=3,random_state=1994)\n",
    "estimator=Pipeline([\n",
    "    ('processing',transformer),\n",
    "    ('model',gbc)\n",
    "])\n",
    "estimator.fit(x_train,y_train)\n",
    "y_pred_before=estimator.predict(x_test)\n",
    "print(classification_report(y_test,y_pred_before))"
   ]
  },
  {
   "cell_type": "code",
   "execution_count": 41,
   "id": "41f9fcd8-43db-451e-abfd-d5163edde5ec",
   "metadata": {},
   "outputs": [
    {
     "name": "stdout",
     "output_type": "stream",
     "text": [
      "Warning: No categorical columns found. Calling 'transform' will only return input data.\n",
      "              precision    recall  f1-score   support\n",
      "\n",
      "           0       0.92      0.95      0.93       546\n",
      "           1       0.68      0.60      0.64       107\n",
      "\n",
      "    accuracy                           0.89       653\n",
      "   macro avg       0.80      0.77      0.79       653\n",
      "weighted avg       0.88      0.89      0.89       653\n",
      "\n"
     ]
    }
   ],
   "source": [
    "# After Tuning\n",
    "best_model=grid.best_estimator_\n",
    "best_model.fit(x_train,y_train)\n",
    "y_pred_after=best_model.predict(x_test)\n",
    "print(classification_report(y_test,y_pred_after))"
   ]
  },
  {
   "cell_type": "markdown",
   "id": "70d2d353-cff3-46b2-aab4-4d37cea6d769",
   "metadata": {},
   "source": [
    "Perbandingan before vs after pada model menunjukan bahwa nilai F1 Score sebelum tuning sebesar 0.58, dan hasil setelah tuning sebesar 0.64, nilai F1 Score setelah tuning meningkat sebesar 6%."
   ]
  },
  {
   "cell_type": "markdown",
   "id": "3f21e936-2bf7-4df4-8510-f07ebec1df80",
   "metadata": {},
   "source": [
    "# Feature Importances"
   ]
  },
  {
   "cell_type": "code",
   "execution_count": 64,
   "id": "b4127e5d-091d-43fa-96ba-a64d698f7b76",
   "metadata": {},
   "outputs": [
    {
     "data": {
      "text/html": [
       "<style>#sk-container-id-6 {color: black;background-color: white;}#sk-container-id-6 pre{padding: 0;}#sk-container-id-6 div.sk-toggleable {background-color: white;}#sk-container-id-6 label.sk-toggleable__label {cursor: pointer;display: block;width: 100%;margin-bottom: 0;padding: 0.3em;box-sizing: border-box;text-align: center;}#sk-container-id-6 label.sk-toggleable__label-arrow:before {content: \"▸\";float: left;margin-right: 0.25em;color: #696969;}#sk-container-id-6 label.sk-toggleable__label-arrow:hover:before {color: black;}#sk-container-id-6 div.sk-estimator:hover label.sk-toggleable__label-arrow:before {color: black;}#sk-container-id-6 div.sk-toggleable__content {max-height: 0;max-width: 0;overflow: hidden;text-align: left;background-color: #f0f8ff;}#sk-container-id-6 div.sk-toggleable__content pre {margin: 0.2em;color: black;border-radius: 0.25em;background-color: #f0f8ff;}#sk-container-id-6 input.sk-toggleable__control:checked~div.sk-toggleable__content {max-height: 200px;max-width: 100%;overflow: auto;}#sk-container-id-6 input.sk-toggleable__control:checked~label.sk-toggleable__label-arrow:before {content: \"▾\";}#sk-container-id-6 div.sk-estimator input.sk-toggleable__control:checked~label.sk-toggleable__label {background-color: #d4ebff;}#sk-container-id-6 div.sk-label input.sk-toggleable__control:checked~label.sk-toggleable__label {background-color: #d4ebff;}#sk-container-id-6 input.sk-hidden--visually {border: 0;clip: rect(1px 1px 1px 1px);clip: rect(1px, 1px, 1px, 1px);height: 1px;margin: -1px;overflow: hidden;padding: 0;position: absolute;width: 1px;}#sk-container-id-6 div.sk-estimator {font-family: monospace;background-color: #f0f8ff;border: 1px dotted black;border-radius: 0.25em;box-sizing: border-box;margin-bottom: 0.5em;}#sk-container-id-6 div.sk-estimator:hover {background-color: #d4ebff;}#sk-container-id-6 div.sk-parallel-item::after {content: \"\";width: 100%;border-bottom: 1px solid gray;flex-grow: 1;}#sk-container-id-6 div.sk-label:hover label.sk-toggleable__label {background-color: #d4ebff;}#sk-container-id-6 div.sk-serial::before {content: \"\";position: absolute;border-left: 1px solid gray;box-sizing: border-box;top: 0;bottom: 0;left: 50%;z-index: 0;}#sk-container-id-6 div.sk-serial {display: flex;flex-direction: column;align-items: center;background-color: white;padding-right: 0.2em;padding-left: 0.2em;position: relative;}#sk-container-id-6 div.sk-item {position: relative;z-index: 1;}#sk-container-id-6 div.sk-parallel {display: flex;align-items: stretch;justify-content: center;background-color: white;position: relative;}#sk-container-id-6 div.sk-item::before, #sk-container-id-6 div.sk-parallel-item::before {content: \"\";position: absolute;border-left: 1px solid gray;box-sizing: border-box;top: 0;bottom: 0;left: 50%;z-index: -1;}#sk-container-id-6 div.sk-parallel-item {display: flex;flex-direction: column;z-index: 1;position: relative;background-color: white;}#sk-container-id-6 div.sk-parallel-item:first-child::after {align-self: flex-end;width: 50%;}#sk-container-id-6 div.sk-parallel-item:last-child::after {align-self: flex-start;width: 50%;}#sk-container-id-6 div.sk-parallel-item:only-child::after {width: 0;}#sk-container-id-6 div.sk-dashed-wrapped {border: 1px dashed gray;margin: 0 0.4em 0.5em 0.4em;box-sizing: border-box;padding-bottom: 0.4em;background-color: white;}#sk-container-id-6 div.sk-label label {font-family: monospace;font-weight: bold;display: inline-block;line-height: 1.2em;}#sk-container-id-6 div.sk-label-container {text-align: center;}#sk-container-id-6 div.sk-container {/* jupyter's `normalize.less` sets `[hidden] { display: none; }` but bootstrap.min.css set `[hidden] { display: none !important; }` so we also need the `!important` here to be able to override the default hidden behavior on the sphinx rendered scikit-learn.org. See: https://github.com/scikit-learn/scikit-learn/issues/21755 */display: inline-block !important;position: relative;}#sk-container-id-6 div.sk-text-repr-fallback {display: none;}</style><div id=\"sk-container-id-6\" class=\"sk-top-container\"><div class=\"sk-text-repr-fallback\"><pre>Pipeline(steps=[(&#x27;processing&#x27;,\n",
       "                 ColumnTransformer(remainder=&#x27;passthrough&#x27;,\n",
       "                                   transformers=[(&#x27;onehot&#x27;,\n",
       "                                                  OneHotEncoder(drop=&#x27;first&#x27;),\n",
       "                                                  [&#x27;NumberOfDeviceRegistered&#x27;,\n",
       "                                                   &#x27;PreferedOrderCat&#x27;,\n",
       "                                                   &#x27;SatisfactionScore&#x27;,\n",
       "                                                   &#x27;MaritalStatus&#x27;,\n",
       "                                                   &#x27;Complain&#x27;]),\n",
       "                                                 (&#x27;pipeline&#x27;,\n",
       "                                                  Pipeline(steps=[(&#x27;impute&#x27;,\n",
       "                                                                   SimpleImputer()),\n",
       "                                                                  (&#x27;binary&#x27;,\n",
       "                                                                   BinaryEncoder())]),\n",
       "                                                  [&#x27;Tenure&#x27;, &#x27;WarehouseToHome&#x27;,\n",
       "                                                   &#x27;NumberOfAddress&#x27;,\n",
       "                                                   &#x27;DaySinceLastOrder&#x27;,\n",
       "                                                   &#x27;CashbackAmount&#x27;]),\n",
       "                                                 (&#x27;ordinal&#x27;,\n",
       "                                                  OrdinalEncoder(mapping=[{&#x27;col&#x27;: &#x27;CashbackAmountClass&#x27;,\n",
       "                                                                           &#x27;mapping&#x27;: {&#x27;Besar&#x27;: 3,\n",
       "                                                                                       &#x27;Kecil&#x27;: 1,\n",
       "                                                                                       &#x27;Sangat Besar&#x27;: 4,\n",
       "                                                                                       &#x27;Sangat Kecil&#x27;: 0,\n",
       "                                                                                       &#x27;Sedang&#x27;: 2}}]),\n",
       "                                                  [&#x27;CashbackAmountClass&#x27;])])),\n",
       "                (&#x27;model&#x27;,\n",
       "                 GradientBoostingClassifier(max_depth=4, n_estimators=200,\n",
       "                                            random_state=1994))])</pre><b>In a Jupyter environment, please rerun this cell to show the HTML representation or trust the notebook. <br />On GitHub, the HTML representation is unable to render, please try loading this page with nbviewer.org.</b></div><div class=\"sk-container\" hidden><div class=\"sk-item sk-dashed-wrapped\"><div class=\"sk-label-container\"><div class=\"sk-label sk-toggleable\"><input class=\"sk-toggleable__control sk-hidden--visually\" id=\"sk-estimator-id-38\" type=\"checkbox\" ><label for=\"sk-estimator-id-38\" class=\"sk-toggleable__label sk-toggleable__label-arrow\">Pipeline</label><div class=\"sk-toggleable__content\"><pre>Pipeline(steps=[(&#x27;processing&#x27;,\n",
       "                 ColumnTransformer(remainder=&#x27;passthrough&#x27;,\n",
       "                                   transformers=[(&#x27;onehot&#x27;,\n",
       "                                                  OneHotEncoder(drop=&#x27;first&#x27;),\n",
       "                                                  [&#x27;NumberOfDeviceRegistered&#x27;,\n",
       "                                                   &#x27;PreferedOrderCat&#x27;,\n",
       "                                                   &#x27;SatisfactionScore&#x27;,\n",
       "                                                   &#x27;MaritalStatus&#x27;,\n",
       "                                                   &#x27;Complain&#x27;]),\n",
       "                                                 (&#x27;pipeline&#x27;,\n",
       "                                                  Pipeline(steps=[(&#x27;impute&#x27;,\n",
       "                                                                   SimpleImputer()),\n",
       "                                                                  (&#x27;binary&#x27;,\n",
       "                                                                   BinaryEncoder())]),\n",
       "                                                  [&#x27;Tenure&#x27;, &#x27;WarehouseToHome&#x27;,\n",
       "                                                   &#x27;NumberOfAddress&#x27;,\n",
       "                                                   &#x27;DaySinceLastOrder&#x27;,\n",
       "                                                   &#x27;CashbackAmount&#x27;]),\n",
       "                                                 (&#x27;ordinal&#x27;,\n",
       "                                                  OrdinalEncoder(mapping=[{&#x27;col&#x27;: &#x27;CashbackAmountClass&#x27;,\n",
       "                                                                           &#x27;mapping&#x27;: {&#x27;Besar&#x27;: 3,\n",
       "                                                                                       &#x27;Kecil&#x27;: 1,\n",
       "                                                                                       &#x27;Sangat Besar&#x27;: 4,\n",
       "                                                                                       &#x27;Sangat Kecil&#x27;: 0,\n",
       "                                                                                       &#x27;Sedang&#x27;: 2}}]),\n",
       "                                                  [&#x27;CashbackAmountClass&#x27;])])),\n",
       "                (&#x27;model&#x27;,\n",
       "                 GradientBoostingClassifier(max_depth=4, n_estimators=200,\n",
       "                                            random_state=1994))])</pre></div></div></div><div class=\"sk-serial\"><div class=\"sk-item sk-dashed-wrapped\"><div class=\"sk-label-container\"><div class=\"sk-label sk-toggleable\"><input class=\"sk-toggleable__control sk-hidden--visually\" id=\"sk-estimator-id-39\" type=\"checkbox\" ><label for=\"sk-estimator-id-39\" class=\"sk-toggleable__label sk-toggleable__label-arrow\">processing: ColumnTransformer</label><div class=\"sk-toggleable__content\"><pre>ColumnTransformer(remainder=&#x27;passthrough&#x27;,\n",
       "                  transformers=[(&#x27;onehot&#x27;, OneHotEncoder(drop=&#x27;first&#x27;),\n",
       "                                 [&#x27;NumberOfDeviceRegistered&#x27;,\n",
       "                                  &#x27;PreferedOrderCat&#x27;, &#x27;SatisfactionScore&#x27;,\n",
       "                                  &#x27;MaritalStatus&#x27;, &#x27;Complain&#x27;]),\n",
       "                                (&#x27;pipeline&#x27;,\n",
       "                                 Pipeline(steps=[(&#x27;impute&#x27;, SimpleImputer()),\n",
       "                                                 (&#x27;binary&#x27;, BinaryEncoder())]),\n",
       "                                 [&#x27;Tenure&#x27;, &#x27;WarehouseToHome&#x27;,\n",
       "                                  &#x27;NumberOfAddress&#x27;, &#x27;DaySinceLastOrder&#x27;,\n",
       "                                  &#x27;CashbackAmount&#x27;]),\n",
       "                                (&#x27;ordinal&#x27;,\n",
       "                                 OrdinalEncoder(mapping=[{&#x27;col&#x27;: &#x27;CashbackAmountClass&#x27;,\n",
       "                                                          &#x27;mapping&#x27;: {&#x27;Besar&#x27;: 3,\n",
       "                                                                      &#x27;Kecil&#x27;: 1,\n",
       "                                                                      &#x27;Sangat Besar&#x27;: 4,\n",
       "                                                                      &#x27;Sangat Kecil&#x27;: 0,\n",
       "                                                                      &#x27;Sedang&#x27;: 2}}]),\n",
       "                                 [&#x27;CashbackAmountClass&#x27;])])</pre></div></div></div><div class=\"sk-parallel\"><div class=\"sk-parallel-item\"><div class=\"sk-item\"><div class=\"sk-label-container\"><div class=\"sk-label sk-toggleable\"><input class=\"sk-toggleable__control sk-hidden--visually\" id=\"sk-estimator-id-40\" type=\"checkbox\" ><label for=\"sk-estimator-id-40\" class=\"sk-toggleable__label sk-toggleable__label-arrow\">onehot</label><div class=\"sk-toggleable__content\"><pre>[&#x27;NumberOfDeviceRegistered&#x27;, &#x27;PreferedOrderCat&#x27;, &#x27;SatisfactionScore&#x27;, &#x27;MaritalStatus&#x27;, &#x27;Complain&#x27;]</pre></div></div></div><div class=\"sk-serial\"><div class=\"sk-item\"><div class=\"sk-estimator sk-toggleable\"><input class=\"sk-toggleable__control sk-hidden--visually\" id=\"sk-estimator-id-41\" type=\"checkbox\" ><label for=\"sk-estimator-id-41\" class=\"sk-toggleable__label sk-toggleable__label-arrow\">OneHotEncoder</label><div class=\"sk-toggleable__content\"><pre>OneHotEncoder(drop=&#x27;first&#x27;)</pre></div></div></div></div></div></div><div class=\"sk-parallel-item\"><div class=\"sk-item\"><div class=\"sk-label-container\"><div class=\"sk-label sk-toggleable\"><input class=\"sk-toggleable__control sk-hidden--visually\" id=\"sk-estimator-id-42\" type=\"checkbox\" ><label for=\"sk-estimator-id-42\" class=\"sk-toggleable__label sk-toggleable__label-arrow\">pipeline</label><div class=\"sk-toggleable__content\"><pre>[&#x27;Tenure&#x27;, &#x27;WarehouseToHome&#x27;, &#x27;NumberOfAddress&#x27;, &#x27;DaySinceLastOrder&#x27;, &#x27;CashbackAmount&#x27;]</pre></div></div></div><div class=\"sk-serial\"><div class=\"sk-item\"><div class=\"sk-serial\"><div class=\"sk-item\"><div class=\"sk-estimator sk-toggleable\"><input class=\"sk-toggleable__control sk-hidden--visually\" id=\"sk-estimator-id-43\" type=\"checkbox\" ><label for=\"sk-estimator-id-43\" class=\"sk-toggleable__label sk-toggleable__label-arrow\">SimpleImputer</label><div class=\"sk-toggleable__content\"><pre>SimpleImputer()</pre></div></div></div><div class=\"sk-item\"><div class=\"sk-estimator sk-toggleable\"><input class=\"sk-toggleable__control sk-hidden--visually\" id=\"sk-estimator-id-44\" type=\"checkbox\" ><label for=\"sk-estimator-id-44\" class=\"sk-toggleable__label sk-toggleable__label-arrow\">BinaryEncoder</label><div class=\"sk-toggleable__content\"><pre>BinaryEncoder()</pre></div></div></div></div></div></div></div></div><div class=\"sk-parallel-item\"><div class=\"sk-item\"><div class=\"sk-label-container\"><div class=\"sk-label sk-toggleable\"><input class=\"sk-toggleable__control sk-hidden--visually\" id=\"sk-estimator-id-45\" type=\"checkbox\" ><label for=\"sk-estimator-id-45\" class=\"sk-toggleable__label sk-toggleable__label-arrow\">ordinal</label><div class=\"sk-toggleable__content\"><pre>[&#x27;CashbackAmountClass&#x27;]</pre></div></div></div><div class=\"sk-serial\"><div class=\"sk-item\"><div class=\"sk-estimator sk-toggleable\"><input class=\"sk-toggleable__control sk-hidden--visually\" id=\"sk-estimator-id-46\" type=\"checkbox\" ><label for=\"sk-estimator-id-46\" class=\"sk-toggleable__label sk-toggleable__label-arrow\">OrdinalEncoder</label><div class=\"sk-toggleable__content\"><pre>OrdinalEncoder(mapping=[{&#x27;col&#x27;: &#x27;CashbackAmountClass&#x27;,\n",
       "                         &#x27;mapping&#x27;: {&#x27;Besar&#x27;: 3, &#x27;Kecil&#x27;: 1, &#x27;Sangat Besar&#x27;: 4,\n",
       "                                     &#x27;Sangat Kecil&#x27;: 0, &#x27;Sedang&#x27;: 2}}])</pre></div></div></div></div></div></div><div class=\"sk-parallel-item\"><div class=\"sk-item\"><div class=\"sk-label-container\"><div class=\"sk-label sk-toggleable\"><input class=\"sk-toggleable__control sk-hidden--visually\" id=\"sk-estimator-id-47\" type=\"checkbox\" ><label for=\"sk-estimator-id-47\" class=\"sk-toggleable__label sk-toggleable__label-arrow\">remainder</label><div class=\"sk-toggleable__content\"><pre>[]</pre></div></div></div><div class=\"sk-serial\"><div class=\"sk-item\"><div class=\"sk-estimator sk-toggleable\"><input class=\"sk-toggleable__control sk-hidden--visually\" id=\"sk-estimator-id-48\" type=\"checkbox\" ><label for=\"sk-estimator-id-48\" class=\"sk-toggleable__label sk-toggleable__label-arrow\">passthrough</label><div class=\"sk-toggleable__content\"><pre>passthrough</pre></div></div></div></div></div></div></div></div><div class=\"sk-item\"><div class=\"sk-estimator sk-toggleable\"><input class=\"sk-toggleable__control sk-hidden--visually\" id=\"sk-estimator-id-49\" type=\"checkbox\" ><label for=\"sk-estimator-id-49\" class=\"sk-toggleable__label sk-toggleable__label-arrow\">GradientBoostingClassifier</label><div class=\"sk-toggleable__content\"><pre>GradientBoostingClassifier(max_depth=4, n_estimators=200, random_state=1994)</pre></div></div></div></div></div></div></div>"
      ],
      "text/plain": [
       "Pipeline(steps=[('processing',\n",
       "                 ColumnTransformer(remainder='passthrough',\n",
       "                                   transformers=[('onehot',\n",
       "                                                  OneHotEncoder(drop='first'),\n",
       "                                                  ['NumberOfDeviceRegistered',\n",
       "                                                   'PreferedOrderCat',\n",
       "                                                   'SatisfactionScore',\n",
       "                                                   'MaritalStatus',\n",
       "                                                   'Complain']),\n",
       "                                                 ('pipeline',\n",
       "                                                  Pipeline(steps=[('impute',\n",
       "                                                                   SimpleImputer()),\n",
       "                                                                  ('binary',\n",
       "                                                                   BinaryEncoder())]),\n",
       "                                                  ['Tenure', 'WarehouseToHome',\n",
       "                                                   'NumberOfAddress',\n",
       "                                                   'DaySinceLastOrder',\n",
       "                                                   'CashbackAmount']),\n",
       "                                                 ('ordinal',\n",
       "                                                  OrdinalEncoder(mapping=[{'col': 'CashbackAmountClass',\n",
       "                                                                           'mapping': {'Besar': 3,\n",
       "                                                                                       'Kecil': 1,\n",
       "                                                                                       'Sangat Besar': 4,\n",
       "                                                                                       'Sangat Kecil': 0,\n",
       "                                                                                       'Sedang': 2}}]),\n",
       "                                                  ['CashbackAmountClass'])])),\n",
       "                ('model',\n",
       "                 GradientBoostingClassifier(max_depth=4, n_estimators=200,\n",
       "                                            random_state=1994))])"
      ]
     },
     "execution_count": 64,
     "metadata": {},
     "output_type": "execute_result"
    }
   ],
   "source": [
    "best_model"
   ]
  },
  {
   "cell_type": "code",
   "execution_count": 192,
   "id": "9394c44c-1b2a-47de-a576-20c47bd50840",
   "metadata": {
    "tags": []
   },
   "outputs": [],
   "source": [
    "features=list(best_model[0].transformers_[0][1].get_feature_names_out())+(best_model[0].transformers_[2][1].get_feature_names())+best_model[0].transformers_[1][2]"
   ]
  },
  {
   "cell_type": "code",
   "execution_count": 72,
   "id": "d11f4ea4-f763-45a1-bbc7-e54108bc8ae2",
   "metadata": {},
   "outputs": [
    {
     "data": {
      "text/plain": [
       "['NumberOfDeviceRegistered_2',\n",
       " 'NumberOfDeviceRegistered_3',\n",
       " 'NumberOfDeviceRegistered_4',\n",
       " 'NumberOfDeviceRegistered_5',\n",
       " 'NumberOfDeviceRegistered_6',\n",
       " 'PreferedOrderCat_Grocery',\n",
       " 'PreferedOrderCat_Laptop & Accessory',\n",
       " 'PreferedOrderCat_Mobile Phone',\n",
       " 'PreferedOrderCat_Others',\n",
       " 'SatisfactionScore_2',\n",
       " 'SatisfactionScore_3',\n",
       " 'SatisfactionScore_4',\n",
       " 'SatisfactionScore_5',\n",
       " 'MaritalStatus_Married',\n",
       " 'MaritalStatus_Single',\n",
       " 'Complain_1',\n",
       " 'CashbackAmountClass']"
      ]
     },
     "execution_count": 72,
     "metadata": {},
     "output_type": "execute_result"
    }
   ],
   "source": [
    "features"
   ]
  },
  {
   "cell_type": "code",
   "execution_count": 193,
   "id": "8bf3136e-7dfd-4af2-9cef-bbeecf2f3327",
   "metadata": {},
   "outputs": [
    {
     "data": {
      "text/html": [
       "<div>\n",
       "<style scoped>\n",
       "    .dataframe tbody tr th:only-of-type {\n",
       "        vertical-align: middle;\n",
       "    }\n",
       "\n",
       "    .dataframe tbody tr th {\n",
       "        vertical-align: top;\n",
       "    }\n",
       "\n",
       "    .dataframe thead th {\n",
       "        text-align: right;\n",
       "    }\n",
       "</style>\n",
       "<table border=\"1\" class=\"dataframe\">\n",
       "  <thead>\n",
       "    <tr style=\"text-align: right;\">\n",
       "      <th></th>\n",
       "      <th>important</th>\n",
       "    </tr>\n",
       "  </thead>\n",
       "  <tbody>\n",
       "    <tr>\n",
       "      <th>CashbackAmountClass</th>\n",
       "      <td>0.355307</td>\n",
       "    </tr>\n",
       "    <tr>\n",
       "      <th>DaySinceLastOrder</th>\n",
       "      <td>0.179732</td>\n",
       "    </tr>\n",
       "    <tr>\n",
       "      <th>Complain_1</th>\n",
       "      <td>0.112833</td>\n",
       "    </tr>\n",
       "  </tbody>\n",
       "</table>\n",
       "</div>"
      ],
      "text/plain": [
       "                     important\n",
       "CashbackAmountClass   0.355307\n",
       "DaySinceLastOrder     0.179732\n",
       "Complain_1            0.112833"
      ]
     },
     "execution_count": 193,
     "metadata": {},
     "output_type": "execute_result"
    }
   ],
   "source": [
    "pd.DataFrame({'important':best_model[1].feature_importances_},index=features).sort_values('important',ascending=False).head(3)"
   ]
  },
  {
   "cell_type": "code",
   "execution_count": 197,
   "id": "ba2a473a-7efd-4e45-8fc8-2ea20c091520",
   "metadata": {},
   "outputs": [
    {
     "data": {
      "text/plain": [
       "<AxesSubplot:>"
      ]
     },
     "execution_count": 197,
     "metadata": {},
     "output_type": "execute_result"
    },
    {
     "data": {
      "image/png": "[encoded data removed]",
      "text/plain": [
       "<Figure size 720x720 with 1 Axes>"
      ]
     },
     "metadata": {},
     "output_type": "display_data"
    }
   ],
   "source": [
    "pd.DataFrame({'important':best_model[1].feature_importances_},index=features).sort_values('important',ascending=True).plot(kind='barh',figsize=(10,10))"
   ]
  },
  {
   "cell_type": "markdown",
   "id": "0626126b-0080-4859-8f84-9ea5294d0fc9",
   "metadata": {},
   "source": [
    "# Conclusion"
   ]
  },
  {
   "cell_type": "code",
   "execution_count": 42,
   "id": "cdede67e-eb95-4a10-bed1-fddc1571d257",
   "metadata": {},
   "outputs": [],
   "source": [
    "report_tuned=(classification_report(y_test,y_pred_after))"
   ]
  },
  {
   "cell_type": "code",
   "execution_count": 45,
   "id": "58f7f7a8-c93d-40a9-a07b-6d7f8a99ce3e",
   "metadata": {},
   "outputs": [
    {
     "name": "stdout",
     "output_type": "stream",
     "text": [
      "Classification Report Tuned GradientBoost : \n",
      "               precision    recall  f1-score   support\n",
      "\n",
      "           0       0.92      0.95      0.93       546\n",
      "           1       0.68      0.60      0.64       107\n",
      "\n",
      "    accuracy                           0.89       653\n",
      "   macro avg       0.80      0.77      0.79       653\n",
      "weighted avg       0.88      0.89      0.89       653\n",
      "\n"
     ]
    }
   ],
   "source": [
    "print('Classification Report Tuned GradientBoost : \\n', report_tuned)"
   ]
  },
  {
   "cell_type": "markdown",
   "id": "5d60c47b-de6d-4cb1-af61-c652ac0a4d28",
   "metadata": {},
   "source": [
    "- Hasil prediksi menggunakan model yang sudah dibuat, dapat dilihat bahwa pelanggan yang tidak churn sebesar 93% berdasarkan nilai dari F1 score, sedangkan sebesar 60% pelanggan yang akan churn berdasarkan nilai recall, dan model kemungkinan bisa memprediksi benar untuk pelanggan yang akan churn sebesar 68% berdasarkan nilai precision.\n",
    "\n",
    "- Dengan dilakukannya prediksi menggunakan model yang sudah dibuat, diharapkan perusahaan dapat memberikan perlakuan yang sesuai terhadap pelanggan, dan melakukan strategi pemasaran yang tepat."
   ]
  },
  {
   "cell_type": "markdown",
   "id": "9172b266-5716-4434-b49f-2081e6161c1c",
   "metadata": {},
   "source": [
    "# Recommendation"
   ]
  },
  {
   "cell_type": "markdown",
   "id": "a98c3a2b-a95a-44fd-9fec-db494b38fb60",
   "metadata": {},
   "source": [
    "- Memberikan berbagai macam penawaran khusus kepada pelanggan dengan masa tenure yang relatif sebentar yang berpotensi churn, berupa promo khusus untuk pengguna baru, cashback, sehingga dapat menarik pelanggan untuk tetap menggunakan layanan e-commerce tersebut. \n",
    "- Komplain yang dilakukan oleh pelanggan harus lebih diperhatikan lagi, dan secepatnya mengambil tindakan untuk komplain tersebut.\n",
    "- Meningkatkan pelayanan dari segala aspek, contohnya seperti kemudahan dalam penggunaan platform e-commerce, memperbanyak variasi produk, mengoptimalkan live chat atau customer service, memberi pelatihan kepada marketplace yang terdaftar sehingga dapat memberikan pelayanan dan produk yang memuaskan.\n",
    "- Memberikan diskon untuk ongkos kirim sampai gratis ongkos kirim kepada pelanggan yang akan churn yang memiliki jarak antar warehouse dan rumah pelanggan yang jauh.\n",
    "- Menggunakan model machine learning yang telah dibuat sebagai solusi untuk menentukan strategi pemasaran yang tepat sasaran."
   ]
  },
  {
   "cell_type": "code",
   "execution_count": 198,
   "id": "f70c59df-ce09-4dfa-bcc5-9e9338a41770",
   "metadata": {},
   "outputs": [],
   "source": [
    "import pickle"
   ]
  },
  {
   "cell_type": "code",
   "execution_count": 199,
   "id": "e314a4d8-c2ff-4783-a3ba-e2b1c1ded96e",
   "metadata": {},
   "outputs": [
    {
     "name": "stdout",
     "output_type": "stream",
     "text": [
      "Warning: No categorical columns found. Calling 'transform' will only return input data.\n"
     ]
    },
    {
     "data": {
      "text/html": [
       "<style>#sk-container-id-16 {color: black;background-color: white;}#sk-container-id-16 pre{padding: 0;}#sk-container-id-16 div.sk-toggleable {background-color: white;}#sk-container-id-16 label.sk-toggleable__label {cursor: pointer;display: block;width: 100%;margin-bottom: 0;padding: 0.3em;box-sizing: border-box;text-align: center;}#sk-container-id-16 label.sk-toggleable__label-arrow:before {content: \"▸\";float: left;margin-right: 0.25em;color: #696969;}#sk-container-id-16 label.sk-toggleable__label-arrow:hover:before {color: black;}#sk-container-id-16 div.sk-estimator:hover label.sk-toggleable__label-arrow:before {color: black;}#sk-container-id-16 div.sk-toggleable__content {max-height: 0;max-width: 0;overflow: hidden;text-align: left;background-color: #f0f8ff;}#sk-container-id-16 div.sk-toggleable__content pre {margin: 0.2em;color: black;border-radius: 0.25em;background-color: #f0f8ff;}#sk-container-id-16 input.sk-toggleable__control:checked~div.sk-toggleable__content {max-height: 200px;max-width: 100%;overflow: auto;}#sk-container-id-16 input.sk-toggleable__control:checked~label.sk-toggleable__label-arrow:before {content: \"▾\";}#sk-container-id-16 div.sk-estimator input.sk-toggleable__control:checked~label.sk-toggleable__label {background-color: #d4ebff;}#sk-container-id-16 div.sk-label input.sk-toggleable__control:checked~label.sk-toggleable__label {background-color: #d4ebff;}#sk-container-id-16 input.sk-hidden--visually {border: 0;clip: rect(1px 1px 1px 1px);clip: rect(1px, 1px, 1px, 1px);height: 1px;margin: -1px;overflow: hidden;padding: 0;position: absolute;width: 1px;}#sk-container-id-16 div.sk-estimator {font-family: monospace;background-color: #f0f8ff;border: 1px dotted black;border-radius: 0.25em;box-sizing: border-box;margin-bottom: 0.5em;}#sk-container-id-16 div.sk-estimator:hover {background-color: #d4ebff;}#sk-container-id-16 div.sk-parallel-item::after {content: \"\";width: 100%;border-bottom: 1px solid gray;flex-grow: 1;}#sk-container-id-16 div.sk-label:hover label.sk-toggleable__label {background-color: #d4ebff;}#sk-container-id-16 div.sk-serial::before {content: \"\";position: absolute;border-left: 1px solid gray;box-sizing: border-box;top: 0;bottom: 0;left: 50%;z-index: 0;}#sk-container-id-16 div.sk-serial {display: flex;flex-direction: column;align-items: center;background-color: white;padding-right: 0.2em;padding-left: 0.2em;position: relative;}#sk-container-id-16 div.sk-item {position: relative;z-index: 1;}#sk-container-id-16 div.sk-parallel {display: flex;align-items: stretch;justify-content: center;background-color: white;position: relative;}#sk-container-id-16 div.sk-item::before, #sk-container-id-16 div.sk-parallel-item::before {content: \"\";position: absolute;border-left: 1px solid gray;box-sizing: border-box;top: 0;bottom: 0;left: 50%;z-index: -1;}#sk-container-id-16 div.sk-parallel-item {display: flex;flex-direction: column;z-index: 1;position: relative;background-color: white;}#sk-container-id-16 div.sk-parallel-item:first-child::after {align-self: flex-end;width: 50%;}#sk-container-id-16 div.sk-parallel-item:last-child::after {align-self: flex-start;width: 50%;}#sk-container-id-16 div.sk-parallel-item:only-child::after {width: 0;}#sk-container-id-16 div.sk-dashed-wrapped {border: 1px dashed gray;margin: 0 0.4em 0.5em 0.4em;box-sizing: border-box;padding-bottom: 0.4em;background-color: white;}#sk-container-id-16 div.sk-label label {font-family: monospace;font-weight: bold;display: inline-block;line-height: 1.2em;}#sk-container-id-16 div.sk-label-container {text-align: center;}#sk-container-id-16 div.sk-container {/* jupyter's `normalize.less` sets `[hidden] { display: none; }` but bootstrap.min.css set `[hidden] { display: none !important; }` so we also need the `!important` here to be able to override the default hidden behavior on the sphinx rendered scikit-learn.org. See: https://github.com/scikit-learn/scikit-learn/issues/21755 */display: inline-block !important;position: relative;}#sk-container-id-16 div.sk-text-repr-fallback {display: none;}</style><div id=\"sk-container-id-16\" class=\"sk-top-container\"><div class=\"sk-text-repr-fallback\"><pre>Pipeline(steps=[(&#x27;processing&#x27;,\n",
       "                 ColumnTransformer(remainder=&#x27;passthrough&#x27;,\n",
       "                                   transformers=[(&#x27;onehot&#x27;,\n",
       "                                                  OneHotEncoder(drop=&#x27;first&#x27;),\n",
       "                                                  [&#x27;NumberOfDeviceRegistered&#x27;,\n",
       "                                                   &#x27;PreferedOrderCat&#x27;,\n",
       "                                                   &#x27;SatisfactionScore&#x27;,\n",
       "                                                   &#x27;MaritalStatus&#x27;,\n",
       "                                                   &#x27;Complain&#x27;]),\n",
       "                                                 (&#x27;pipeline&#x27;,\n",
       "                                                  Pipeline(steps=[(&#x27;impute&#x27;,\n",
       "                                                                   SimpleImputer()),\n",
       "                                                                  (&#x27;binary&#x27;,\n",
       "                                                                   BinaryEncoder())]),\n",
       "                                                  [&#x27;Tenure&#x27;, &#x27;WarehouseToHome&#x27;,\n",
       "                                                   &#x27;NumberOfAddress&#x27;,\n",
       "                                                   &#x27;DaySinceLastOrder&#x27;,\n",
       "                                                   &#x27;CashbackAmount&#x27;]),\n",
       "                                                 (&#x27;ordinal&#x27;,\n",
       "                                                  OrdinalEncoder(mapping=[{&#x27;col&#x27;: &#x27;CashbackAmountClass&#x27;,\n",
       "                                                                           &#x27;mapping&#x27;: {&#x27;Besar&#x27;: 3,\n",
       "                                                                                       &#x27;Kecil&#x27;: 1,\n",
       "                                                                                       &#x27;Sangat Besar&#x27;: 4,\n",
       "                                                                                       &#x27;Sangat Kecil&#x27;: 0,\n",
       "                                                                                       &#x27;Sedang&#x27;: 2}}]),\n",
       "                                                  [&#x27;CashbackAmountClass&#x27;])])),\n",
       "                (&#x27;model&#x27;,\n",
       "                 GradientBoostingClassifier(max_depth=4, n_estimators=200,\n",
       "                                            random_state=1994))])</pre><b>In a Jupyter environment, please rerun this cell to show the HTML representation or trust the notebook. <br />On GitHub, the HTML representation is unable to render, please try loading this page with nbviewer.org.</b></div><div class=\"sk-container\" hidden><div class=\"sk-item sk-dashed-wrapped\"><div class=\"sk-label-container\"><div class=\"sk-label sk-toggleable\"><input class=\"sk-toggleable__control sk-hidden--visually\" id=\"sk-estimator-id-88\" type=\"checkbox\" ><label for=\"sk-estimator-id-88\" class=\"sk-toggleable__label sk-toggleable__label-arrow\">Pipeline</label><div class=\"sk-toggleable__content\"><pre>Pipeline(steps=[(&#x27;processing&#x27;,\n",
       "                 ColumnTransformer(remainder=&#x27;passthrough&#x27;,\n",
       "                                   transformers=[(&#x27;onehot&#x27;,\n",
       "                                                  OneHotEncoder(drop=&#x27;first&#x27;),\n",
       "                                                  [&#x27;NumberOfDeviceRegistered&#x27;,\n",
       "                                                   &#x27;PreferedOrderCat&#x27;,\n",
       "                                                   &#x27;SatisfactionScore&#x27;,\n",
       "                                                   &#x27;MaritalStatus&#x27;,\n",
       "                                                   &#x27;Complain&#x27;]),\n",
       "                                                 (&#x27;pipeline&#x27;,\n",
       "                                                  Pipeline(steps=[(&#x27;impute&#x27;,\n",
       "                                                                   SimpleImputer()),\n",
       "                                                                  (&#x27;binary&#x27;,\n",
       "                                                                   BinaryEncoder())]),\n",
       "                                                  [&#x27;Tenure&#x27;, &#x27;WarehouseToHome&#x27;,\n",
       "                                                   &#x27;NumberOfAddress&#x27;,\n",
       "                                                   &#x27;DaySinceLastOrder&#x27;,\n",
       "                                                   &#x27;CashbackAmount&#x27;]),\n",
       "                                                 (&#x27;ordinal&#x27;,\n",
       "                                                  OrdinalEncoder(mapping=[{&#x27;col&#x27;: &#x27;CashbackAmountClass&#x27;,\n",
       "                                                                           &#x27;mapping&#x27;: {&#x27;Besar&#x27;: 3,\n",
       "                                                                                       &#x27;Kecil&#x27;: 1,\n",
       "                                                                                       &#x27;Sangat Besar&#x27;: 4,\n",
       "                                                                                       &#x27;Sangat Kecil&#x27;: 0,\n",
       "                                                                                       &#x27;Sedang&#x27;: 2}}]),\n",
       "                                                  [&#x27;CashbackAmountClass&#x27;])])),\n",
       "                (&#x27;model&#x27;,\n",
       "                 GradientBoostingClassifier(max_depth=4, n_estimators=200,\n",
       "                                            random_state=1994))])</pre></div></div></div><div class=\"sk-serial\"><div class=\"sk-item sk-dashed-wrapped\"><div class=\"sk-label-container\"><div class=\"sk-label sk-toggleable\"><input class=\"sk-toggleable__control sk-hidden--visually\" id=\"sk-estimator-id-89\" type=\"checkbox\" ><label for=\"sk-estimator-id-89\" class=\"sk-toggleable__label sk-toggleable__label-arrow\">processing: ColumnTransformer</label><div class=\"sk-toggleable__content\"><pre>ColumnTransformer(remainder=&#x27;passthrough&#x27;,\n",
       "                  transformers=[(&#x27;onehot&#x27;, OneHotEncoder(drop=&#x27;first&#x27;),\n",
       "                                 [&#x27;NumberOfDeviceRegistered&#x27;,\n",
       "                                  &#x27;PreferedOrderCat&#x27;, &#x27;SatisfactionScore&#x27;,\n",
       "                                  &#x27;MaritalStatus&#x27;, &#x27;Complain&#x27;]),\n",
       "                                (&#x27;pipeline&#x27;,\n",
       "                                 Pipeline(steps=[(&#x27;impute&#x27;, SimpleImputer()),\n",
       "                                                 (&#x27;binary&#x27;, BinaryEncoder())]),\n",
       "                                 [&#x27;Tenure&#x27;, &#x27;WarehouseToHome&#x27;,\n",
       "                                  &#x27;NumberOfAddress&#x27;, &#x27;DaySinceLastOrder&#x27;,\n",
       "                                  &#x27;CashbackAmount&#x27;]),\n",
       "                                (&#x27;ordinal&#x27;,\n",
       "                                 OrdinalEncoder(mapping=[{&#x27;col&#x27;: &#x27;CashbackAmountClass&#x27;,\n",
       "                                                          &#x27;mapping&#x27;: {&#x27;Besar&#x27;: 3,\n",
       "                                                                      &#x27;Kecil&#x27;: 1,\n",
       "                                                                      &#x27;Sangat Besar&#x27;: 4,\n",
       "                                                                      &#x27;Sangat Kecil&#x27;: 0,\n",
       "                                                                      &#x27;Sedang&#x27;: 2}}]),\n",
       "                                 [&#x27;CashbackAmountClass&#x27;])])</pre></div></div></div><div class=\"sk-parallel\"><div class=\"sk-parallel-item\"><div class=\"sk-item\"><div class=\"sk-label-container\"><div class=\"sk-label sk-toggleable\"><input class=\"sk-toggleable__control sk-hidden--visually\" id=\"sk-estimator-id-90\" type=\"checkbox\" ><label for=\"sk-estimator-id-90\" class=\"sk-toggleable__label sk-toggleable__label-arrow\">onehot</label><div class=\"sk-toggleable__content\"><pre>[&#x27;NumberOfDeviceRegistered&#x27;, &#x27;PreferedOrderCat&#x27;, &#x27;SatisfactionScore&#x27;, &#x27;MaritalStatus&#x27;, &#x27;Complain&#x27;]</pre></div></div></div><div class=\"sk-serial\"><div class=\"sk-item\"><div class=\"sk-estimator sk-toggleable\"><input class=\"sk-toggleable__control sk-hidden--visually\" id=\"sk-estimator-id-91\" type=\"checkbox\" ><label for=\"sk-estimator-id-91\" class=\"sk-toggleable__label sk-toggleable__label-arrow\">OneHotEncoder</label><div class=\"sk-toggleable__content\"><pre>OneHotEncoder(drop=&#x27;first&#x27;)</pre></div></div></div></div></div></div><div class=\"sk-parallel-item\"><div class=\"sk-item\"><div class=\"sk-label-container\"><div class=\"sk-label sk-toggleable\"><input class=\"sk-toggleable__control sk-hidden--visually\" id=\"sk-estimator-id-92\" type=\"checkbox\" ><label for=\"sk-estimator-id-92\" class=\"sk-toggleable__label sk-toggleable__label-arrow\">pipeline</label><div class=\"sk-toggleable__content\"><pre>[&#x27;Tenure&#x27;, &#x27;WarehouseToHome&#x27;, &#x27;NumberOfAddress&#x27;, &#x27;DaySinceLastOrder&#x27;, &#x27;CashbackAmount&#x27;]</pre></div></div></div><div class=\"sk-serial\"><div class=\"sk-item\"><div class=\"sk-serial\"><div class=\"sk-item\"><div class=\"sk-estimator sk-toggleable\"><input class=\"sk-toggleable__control sk-hidden--visually\" id=\"sk-estimator-id-93\" type=\"checkbox\" ><label for=\"sk-estimator-id-93\" class=\"sk-toggleable__label sk-toggleable__label-arrow\">SimpleImputer</label><div class=\"sk-toggleable__content\"><pre>SimpleImputer()</pre></div></div></div><div class=\"sk-item\"><div class=\"sk-estimator sk-toggleable\"><input class=\"sk-toggleable__control sk-hidden--visually\" id=\"sk-estimator-id-94\" type=\"checkbox\" ><label for=\"sk-estimator-id-94\" class=\"sk-toggleable__label sk-toggleable__label-arrow\">BinaryEncoder</label><div class=\"sk-toggleable__content\"><pre>BinaryEncoder()</pre></div></div></div></div></div></div></div></div><div class=\"sk-parallel-item\"><div class=\"sk-item\"><div class=\"sk-label-container\"><div class=\"sk-label sk-toggleable\"><input class=\"sk-toggleable__control sk-hidden--visually\" id=\"sk-estimator-id-95\" type=\"checkbox\" ><label for=\"sk-estimator-id-95\" class=\"sk-toggleable__label sk-toggleable__label-arrow\">ordinal</label><div class=\"sk-toggleable__content\"><pre>[&#x27;CashbackAmountClass&#x27;]</pre></div></div></div><div class=\"sk-serial\"><div class=\"sk-item\"><div class=\"sk-estimator sk-toggleable\"><input class=\"sk-toggleable__control sk-hidden--visually\" id=\"sk-estimator-id-96\" type=\"checkbox\" ><label for=\"sk-estimator-id-96\" class=\"sk-toggleable__label sk-toggleable__label-arrow\">OrdinalEncoder</label><div class=\"sk-toggleable__content\"><pre>OrdinalEncoder(mapping=[{&#x27;col&#x27;: &#x27;CashbackAmountClass&#x27;,\n",
       "                         &#x27;mapping&#x27;: {&#x27;Besar&#x27;: 3, &#x27;Kecil&#x27;: 1, &#x27;Sangat Besar&#x27;: 4,\n",
       "                                     &#x27;Sangat Kecil&#x27;: 0, &#x27;Sedang&#x27;: 2}}])</pre></div></div></div></div></div></div><div class=\"sk-parallel-item\"><div class=\"sk-item\"><div class=\"sk-label-container\"><div class=\"sk-label sk-toggleable\"><input class=\"sk-toggleable__control sk-hidden--visually\" id=\"sk-estimator-id-97\" type=\"checkbox\" ><label for=\"sk-estimator-id-97\" class=\"sk-toggleable__label sk-toggleable__label-arrow\">remainder</label><div class=\"sk-toggleable__content\"><pre>[]</pre></div></div></div><div class=\"sk-serial\"><div class=\"sk-item\"><div class=\"sk-estimator sk-toggleable\"><input class=\"sk-toggleable__control sk-hidden--visually\" id=\"sk-estimator-id-98\" type=\"checkbox\" ><label for=\"sk-estimator-id-98\" class=\"sk-toggleable__label sk-toggleable__label-arrow\">passthrough</label><div class=\"sk-toggleable__content\"><pre>passthrough</pre></div></div></div></div></div></div></div></div><div class=\"sk-item\"><div class=\"sk-estimator sk-toggleable\"><input class=\"sk-toggleable__control sk-hidden--visually\" id=\"sk-estimator-id-99\" type=\"checkbox\" ><label for=\"sk-estimator-id-99\" class=\"sk-toggleable__label sk-toggleable__label-arrow\">GradientBoostingClassifier</label><div class=\"sk-toggleable__content\"><pre>GradientBoostingClassifier(max_depth=4, n_estimators=200, random_state=1994)</pre></div></div></div></div></div></div></div>"
      ],
      "text/plain": [
       "Pipeline(steps=[('processing',\n",
       "                 ColumnTransformer(remainder='passthrough',\n",
       "                                   transformers=[('onehot',\n",
       "                                                  OneHotEncoder(drop='first'),\n",
       "                                                  ['NumberOfDeviceRegistered',\n",
       "                                                   'PreferedOrderCat',\n",
       "                                                   'SatisfactionScore',\n",
       "                                                   'MaritalStatus',\n",
       "                                                   'Complain']),\n",
       "                                                 ('pipeline',\n",
       "                                                  Pipeline(steps=[('impute',\n",
       "                                                                   SimpleImputer()),\n",
       "                                                                  ('binary',\n",
       "                                                                   BinaryEncoder())]),\n",
       "                                                  ['Tenure', 'WarehouseToHome',\n",
       "                                                   'NumberOfAddress',\n",
       "                                                   'DaySinceLastOrder',\n",
       "                                                   'CashbackAmount']),\n",
       "                                                 ('ordinal',\n",
       "                                                  OrdinalEncoder(mapping=[{'col': 'CashbackAmountClass',\n",
       "                                                                           'mapping': {'Besar': 3,\n",
       "                                                                                       'Kecil': 1,\n",
       "                                                                                       'Sangat Besar': 4,\n",
       "                                                                                       'Sangat Kecil': 0,\n",
       "                                                                                       'Sedang': 2}}]),\n",
       "                                                  ['CashbackAmountClass'])])),\n",
       "                ('model',\n",
       "                 GradientBoostingClassifier(max_depth=4, n_estimators=200,\n",
       "                                            random_state=1994))])"
      ]
     },
     "execution_count": 199,
     "metadata": {},
     "output_type": "execute_result"
    }
   ],
   "source": [
    "best_model.fit(x,y)"
   ]
  },
  {
   "cell_type": "code",
   "execution_count": 200,
   "id": "ee6e74da-1969-48f4-991e-4818d1985469",
   "metadata": {},
   "outputs": [],
   "source": [
    "pickle.dump(best_model,open('best_modelGBC.sav','wb'))"
   ]
  }
 ],
 "metadata": {
  "kernelspec": {
   "display_name": "Python 3 (ipykernel)",
   "language": "python",
   "name": "python3"
  },
  "language_info": {
   "codemirror_mode": {
    "name": "ipython",
    "version": 3
   },
   "file_extension": ".py",
   "mimetype": "text/x-python",
   "name": "python",
   "nbconvert_exporter": "python",
   "pygments_lexer": "ipython3",
   "version": "3.9.12"
  }
 },
 "nbformat": 4,
 "nbformat_minor": 5
}
